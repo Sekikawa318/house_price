{
 "cells": [
  {
   "cell_type": "code",
   "execution_count": 276,
   "id": "07e52ecf",
   "metadata": {},
   "outputs": [],
   "source": [
    "import pandas as pd\n",
    "import numpy as np\n",
    "\n",
    "pd.set_option('display.max_columns', 100)\n",
    "\n",
    "root = \"../\""
   ]
  },
  {
   "cell_type": "code",
   "execution_count": 277,
   "id": "760525bf",
   "metadata": {},
   "outputs": [],
   "source": [
    "l = pd.read_csv(root+\"input/list_page_data.csv\")\n",
    "l = l.drop_duplicates()\n",
    "d = pd.read_csv(root+\"input/detail_page_data.csv\")\n",
    "d = d.drop_duplicates()"
   ]
  },
  {
   "cell_type": "markdown",
   "id": "a52e7e8d",
   "metadata": {},
   "source": [
    "## リストページ"
   ]
  },
  {
   "cell_type": "code",
   "execution_count": 278,
   "id": "412bf9b2",
   "metadata": {},
   "outputs": [
    {
     "data": {
      "text/plain": [
       "https://suumo.jp/chintai/jnc_000068802081/?bc=100256104423    2\n",
       "https://suumo.jp/chintai/jnc_000057853373/?bc=100196884781    2\n",
       "https://suumo.jp/chintai/jnc_000068632335/?bc=100252192140    2\n",
       "https://suumo.jp/chintai/jnc_000067935896/?bc=100216907751    2\n",
       "https://suumo.jp/chintai/jnc_000069132033/?bc=100255009849    2\n",
       "                                                             ..\n",
       "https://suumo.jp/chintai/jnc_000067995081/?bc=100248782368    1\n",
       "https://suumo.jp/chintai/jnc_000059392814/?bc=100221570456    1\n",
       "https://suumo.jp/chintai/jnc_000065491815/?bc=100234722341    1\n",
       "https://suumo.jp/chintai/jnc_000059927455/?bc=100224819221    1\n",
       "https://suumo.jp/chintai/jnc_000064073214/?bc=100227533951    1\n",
       "Name: detail_url, Length: 5315, dtype: int64"
      ]
     },
     "execution_count": 278,
     "metadata": {},
     "output_type": "execute_result"
    }
   ],
   "source": [
    "l.detail_url.value_counts()"
   ]
  },
  {
   "cell_type": "code",
   "execution_count": 279,
   "id": "ad28650a",
   "metadata": {},
   "outputs": [],
   "source": [
    "keys = l.detail_url.value_counts().keys()\n",
    "values = l.detail_url.value_counts().values\n",
    "\n",
    "index = [True] * len(l)\n",
    "\n",
    "for key, value in zip(keys, values):\n",
    "    if value > 1:\n",
    "        index = (index) & (l[\"detail_url\"] != key)\n",
    "    else:\n",
    "        break\n",
    "        \n",
    "l = l[index]"
   ]
  },
  {
   "cell_type": "code",
   "execution_count": 280,
   "id": "49b989a5",
   "metadata": {},
   "outputs": [
    {
     "data": {
      "text/plain": [
       "5236"
      ]
     },
     "execution_count": 280,
     "metadata": {},
     "output_type": "execute_result"
    }
   ],
   "source": [
    "len(l)"
   ]
  },
  {
   "cell_type": "code",
   "execution_count": 281,
   "id": "d4d66b0e",
   "metadata": {
    "scrolled": false
   },
   "outputs": [
    {
     "data": {
      "text/html": [
       "<div>\n",
       "<style scoped>\n",
       "    .dataframe tbody tr th:only-of-type {\n",
       "        vertical-align: middle;\n",
       "    }\n",
       "\n",
       "    .dataframe tbody tr th {\n",
       "        vertical-align: top;\n",
       "    }\n",
       "\n",
       "    .dataframe thead th {\n",
       "        text-align: right;\n",
       "    }\n",
       "</style>\n",
       "<table border=\"1\" class=\"dataframe\">\n",
       "  <thead>\n",
       "    <tr style=\"text-align: right;\">\n",
       "      <th></th>\n",
       "      <th>detail_url</th>\n",
       "      <th>kanrihi</th>\n",
       "      <th>madori</th>\n",
       "      <th>menseki</th>\n",
       "      <th>reikin</th>\n",
       "      <th>shikikin</th>\n",
       "      <th>url</th>\n",
       "      <th>yatin</th>\n",
       "    </tr>\n",
       "  </thead>\n",
       "  <tbody>\n",
       "    <tr>\n",
       "      <th>0</th>\n",
       "      <td>https://suumo.jp/chintai/jnc_000043001186/?bc=...</td>\n",
       "      <td>6000円</td>\n",
       "      <td>1DK</td>\n",
       "      <td>30.21m</td>\n",
       "      <td>10.8万円</td>\n",
       "      <td>10.8万円</td>\n",
       "      <td>page=1</td>\n",
       "      <td>10.8万円</td>\n",
       "    </tr>\n",
       "    <tr>\n",
       "      <th>1</th>\n",
       "      <td>https://suumo.jp/chintai/jnc_000069654856/?bc=...</td>\n",
       "      <td>5000円</td>\n",
       "      <td>ワンルーム</td>\n",
       "      <td>25.85m</td>\n",
       "      <td>8.7万円</td>\n",
       "      <td>8.7万円</td>\n",
       "      <td>page=1</td>\n",
       "      <td>8.7万円</td>\n",
       "    </tr>\n",
       "    <tr>\n",
       "      <th>2</th>\n",
       "      <td>https://suumo.jp/chintai/jnc_000069660560/?bc=...</td>\n",
       "      <td>5000円</td>\n",
       "      <td>ワンルーム</td>\n",
       "      <td>25.85m</td>\n",
       "      <td>8.7万円</td>\n",
       "      <td>8.7万円</td>\n",
       "      <td>page=1</td>\n",
       "      <td>8.7万円</td>\n",
       "    </tr>\n",
       "    <tr>\n",
       "      <th>3</th>\n",
       "      <td>https://suumo.jp/chintai/jnc_000069579096/?bc=...</td>\n",
       "      <td>15000円</td>\n",
       "      <td>1DK</td>\n",
       "      <td>25.52m</td>\n",
       "      <td>-</td>\n",
       "      <td>-</td>\n",
       "      <td>page=1</td>\n",
       "      <td>8.9万円</td>\n",
       "    </tr>\n",
       "    <tr>\n",
       "      <th>4</th>\n",
       "      <td>https://suumo.jp/chintai/jnc_000069533547/?bc=...</td>\n",
       "      <td>15000円</td>\n",
       "      <td>1DK</td>\n",
       "      <td>25.52m</td>\n",
       "      <td>-</td>\n",
       "      <td>-</td>\n",
       "      <td>page=1</td>\n",
       "      <td>9.2万円</td>\n",
       "    </tr>\n",
       "  </tbody>\n",
       "</table>\n",
       "</div>"
      ],
      "text/plain": [
       "                                          detail_url kanrihi madori menseki  \\\n",
       "0  https://suumo.jp/chintai/jnc_000043001186/?bc=...   6000円    1DK  30.21m   \n",
       "1  https://suumo.jp/chintai/jnc_000069654856/?bc=...   5000円  ワンルーム  25.85m   \n",
       "2  https://suumo.jp/chintai/jnc_000069660560/?bc=...   5000円  ワンルーム  25.85m   \n",
       "3  https://suumo.jp/chintai/jnc_000069579096/?bc=...  15000円    1DK  25.52m   \n",
       "4  https://suumo.jp/chintai/jnc_000069533547/?bc=...  15000円    1DK  25.52m   \n",
       "\n",
       "   reikin shikikin     url   yatin  \n",
       "0  10.8万円   10.8万円  page=1  10.8万円  \n",
       "1   8.7万円    8.7万円  page=1   8.7万円  \n",
       "2   8.7万円    8.7万円  page=1   8.7万円  \n",
       "3       -        -  page=1   8.9万円  \n",
       "4       -        -  page=1   9.2万円  "
      ]
     },
     "execution_count": 281,
     "metadata": {},
     "output_type": "execute_result"
    }
   ],
   "source": [
    "l.head()"
   ]
  },
  {
   "cell_type": "markdown",
   "id": "6c16f65e",
   "metadata": {},
   "source": [
    "## 詳細ページ"
   ]
  },
  {
   "cell_type": "code",
   "execution_count": 282,
   "id": "92c24c07",
   "metadata": {},
   "outputs": [
    {
     "data": {
      "text/plain": [
       "https://suumo.jp/chintai/jnc_000043001186/?bc=100257270062    1\n",
       "https://suumo.jp/chintai/jnc_000067148223/?bc=100248614769    1\n",
       "https://suumo.jp/chintai/jnc_000067529956/?bc=100249469274    1\n",
       "https://suumo.jp/chintai/jnc_000065205034/?bc=100244060553    1\n",
       "https://suumo.jp/chintai/jnc_000065205033/?bc=100246089946    1\n",
       "                                                             ..\n",
       "https://suumo.jp/chintai/jnc_000061576681/?bc=100214769737    1\n",
       "https://suumo.jp/chintai/jnc_000069693021/?bc=100258019561    1\n",
       "https://suumo.jp/chintai/jnc_000069169239/?bc=100255251615    1\n",
       "https://suumo.jp/chintai/jnc_000069221720/?bc=100255532642    1\n",
       "https://suumo.jp/chintai/jnc_000064073214/?bc=100227533951    1\n",
       "Name: url, Length: 5269, dtype: int64"
      ]
     },
     "execution_count": 282,
     "metadata": {},
     "output_type": "execute_result"
    }
   ],
   "source": [
    "d.url.value_counts()"
   ]
  },
  {
   "cell_type": "code",
   "execution_count": 283,
   "id": "2c15d9ea",
   "metadata": {},
   "outputs": [
    {
     "data": {
      "text/plain": [
       "5269"
      ]
     },
     "execution_count": 283,
     "metadata": {},
     "output_type": "execute_result"
    }
   ],
   "source": [
    "len(d)"
   ]
  },
  {
   "cell_type": "code",
   "execution_count": 284,
   "id": "0e3964ee",
   "metadata": {},
   "outputs": [
    {
     "data": {
      "text/html": [
       "<div>\n",
       "<style scoped>\n",
       "    .dataframe tbody tr th:only-of-type {\n",
       "        vertical-align: middle;\n",
       "    }\n",
       "\n",
       "    .dataframe tbody tr th {\n",
       "        vertical-align: top;\n",
       "    }\n",
       "\n",
       "    .dataframe thead th {\n",
       "        text-align: right;\n",
       "    }\n",
       "</style>\n",
       "<table border=\"1\" class=\"dataframe\">\n",
       "  <thead>\n",
       "    <tr style=\"text-align: right;\">\n",
       "      <th></th>\n",
       "      <th>ekitoho</th>\n",
       "      <th>kaidate</th>\n",
       "      <th>keiyaku_kikan</th>\n",
       "      <th>kozo</th>\n",
       "      <th>madori_detail</th>\n",
       "      <th>nyukyo</th>\n",
       "      <th>others</th>\n",
       "      <th>sonpo</th>\n",
       "      <th>syohiyo</th>\n",
       "      <th>syokihi</th>\n",
       "      <th>syozaiti</th>\n",
       "      <th>tikunengetu</th>\n",
       "      <th>title</th>\n",
       "      <th>tyukai_tesuryo</th>\n",
       "      <th>tyusyazyo</th>\n",
       "      <th>url</th>\n",
       "      <th>zyoken</th>\n",
       "    </tr>\n",
       "  </thead>\n",
       "  <tbody>\n",
       "    <tr>\n",
       "      <th>0</th>\n",
       "      <td>ＪＲ横須賀線/武蔵小杉駅 歩4分</td>\n",
       "      <td>3階/6階建</td>\n",
       "      <td>NaN</td>\n",
       "      <td>鉄筋コン</td>\n",
       "      <td>洋5 DK8.6</td>\n",
       "      <td>'22年1月中旬</td>\n",
       "      <td>バストイレ別、バルコニー、エアコン、ガスコンロ対応、クロゼット、浴室乾燥機、オートロック、室...</td>\n",
       "      <td>要</td>\n",
       "      <td>月額手数料１１４０円／口座振替手数料１１０円／セーフティ補償料５７０円</td>\n",
       "      <td>合計6.76万円（内訳：保証会社加入必須４５６００円／カギ交換費用２２０００円）</td>\n",
       "      <td>神奈川県川崎市中原区中丸子</td>\n",
       "      <td>2012年1月</td>\n",
       "      <td>クレール武蔵小杉</td>\n",
       "      <td>NaN</td>\n",
       "      <td>-</td>\n",
       "      <td>https://suumo.jp/chintai/jnc_000043001186/?bc=...</td>\n",
       "      <td>-</td>\n",
       "    </tr>\n",
       "  </tbody>\n",
       "</table>\n",
       "</div>"
      ],
      "text/plain": [
       "            ekitoho kaidate keiyaku_kikan  kozo madori_detail    nyukyo  \\\n",
       "0  ＪＲ横須賀線/武蔵小杉駅 歩4分  3階/6階建           NaN  鉄筋コン      洋5 DK8.6  '22年1月中旬   \n",
       "\n",
       "                                              others sonpo  \\\n",
       "0  バストイレ別、バルコニー、エアコン、ガスコンロ対応、クロゼット、浴室乾燥機、オートロック、室...     要   \n",
       "\n",
       "                               syohiyo  \\\n",
       "0  月額手数料１１４０円／口座振替手数料１１０円／セーフティ補償料５７０円   \n",
       "\n",
       "                                    syokihi       syozaiti tikunengetu  \\\n",
       "0  合計6.76万円（内訳：保証会社加入必須４５６００円／カギ交換費用２２０００円）  神奈川県川崎市中原区中丸子     2012年1月   \n",
       "\n",
       "      title tyukai_tesuryo tyusyazyo  \\\n",
       "0  クレール武蔵小杉            NaN         -   \n",
       "\n",
       "                                                 url zyoken  \n",
       "0  https://suumo.jp/chintai/jnc_000043001186/?bc=...      -  "
      ]
     },
     "execution_count": 284,
     "metadata": {},
     "output_type": "execute_result"
    }
   ],
   "source": [
    "d.head(1)"
   ]
  },
  {
   "cell_type": "markdown",
   "id": "37206f15",
   "metadata": {},
   "source": [
    "## 結合"
   ]
  },
  {
   "cell_type": "code",
   "execution_count": 285,
   "id": "9c7a1c44",
   "metadata": {
    "scrolled": true
   },
   "outputs": [],
   "source": [
    "temp1 = set(l.detail_url)\n",
    "temp2 = set(d.url)"
   ]
  },
  {
   "cell_type": "code",
   "execution_count": 286,
   "id": "5c3c7587",
   "metadata": {
    "scrolled": true
   },
   "outputs": [],
   "source": [
    "# temp1 - temp2"
   ]
  },
  {
   "cell_type": "code",
   "execution_count": 287,
   "id": "e1b768d8",
   "metadata": {
    "scrolled": true
   },
   "outputs": [],
   "source": [
    "# temp2 - temp1"
   ]
  },
  {
   "cell_type": "code",
   "execution_count": 288,
   "id": "7e8d5506",
   "metadata": {},
   "outputs": [],
   "source": [
    "train = pd.merge(left=l, right=d, left_on=\"detail_url\", right_on=\"url\", how=\"inner\")\n",
    "train = train.drop([\"url_x\", \"url_y\", \"detail_url\"], axis=1)"
   ]
  },
  {
   "cell_type": "code",
   "execution_count": 289,
   "id": "9f37cac0",
   "metadata": {},
   "outputs": [
    {
     "data": {
      "text/plain": [
       "Index(['kanrihi', 'madori', 'menseki', 'reikin', 'shikikin', 'yatin',\n",
       "       'ekitoho', 'kaidate', 'keiyaku_kikan', 'kozo', 'madori_detail',\n",
       "       'nyukyo', 'others', 'sonpo', 'syohiyo', 'syokihi', 'syozaiti',\n",
       "       'tikunengetu', 'title', 'tyukai_tesuryo', 'tyusyazyo', 'zyoken'],\n",
       "      dtype='object')"
      ]
     },
     "execution_count": 289,
     "metadata": {},
     "output_type": "execute_result"
    }
   ],
   "source": [
    "train.columns"
   ]
  },
  {
   "cell_type": "code",
   "execution_count": 290,
   "id": "d265127c",
   "metadata": {
    "scrolled": true
   },
   "outputs": [
    {
     "data": {
      "text/html": [
       "<div>\n",
       "<style scoped>\n",
       "    .dataframe tbody tr th:only-of-type {\n",
       "        vertical-align: middle;\n",
       "    }\n",
       "\n",
       "    .dataframe tbody tr th {\n",
       "        vertical-align: top;\n",
       "    }\n",
       "\n",
       "    .dataframe thead th {\n",
       "        text-align: right;\n",
       "    }\n",
       "</style>\n",
       "<table border=\"1\" class=\"dataframe\">\n",
       "  <thead>\n",
       "    <tr style=\"text-align: right;\">\n",
       "      <th></th>\n",
       "      <th>kanrihi</th>\n",
       "      <th>madori</th>\n",
       "      <th>menseki</th>\n",
       "      <th>reikin</th>\n",
       "      <th>shikikin</th>\n",
       "      <th>yatin</th>\n",
       "      <th>ekitoho</th>\n",
       "      <th>kaidate</th>\n",
       "      <th>keiyaku_kikan</th>\n",
       "      <th>kozo</th>\n",
       "      <th>madori_detail</th>\n",
       "      <th>nyukyo</th>\n",
       "      <th>others</th>\n",
       "      <th>sonpo</th>\n",
       "      <th>syohiyo</th>\n",
       "      <th>syokihi</th>\n",
       "      <th>syozaiti</th>\n",
       "      <th>tikunengetu</th>\n",
       "      <th>title</th>\n",
       "      <th>tyukai_tesuryo</th>\n",
       "      <th>tyusyazyo</th>\n",
       "      <th>zyoken</th>\n",
       "    </tr>\n",
       "  </thead>\n",
       "  <tbody>\n",
       "    <tr>\n",
       "      <th>0</th>\n",
       "      <td>6000円</td>\n",
       "      <td>1DK</td>\n",
       "      <td>30.21m</td>\n",
       "      <td>10.8万円</td>\n",
       "      <td>10.8万円</td>\n",
       "      <td>10.8万円</td>\n",
       "      <td>ＪＲ横須賀線/武蔵小杉駅 歩4分</td>\n",
       "      <td>3階/6階建</td>\n",
       "      <td>NaN</td>\n",
       "      <td>鉄筋コン</td>\n",
       "      <td>洋5 DK8.6</td>\n",
       "      <td>'22年1月中旬</td>\n",
       "      <td>バストイレ別、バルコニー、エアコン、ガスコンロ対応、クロゼット、浴室乾燥機、オートロック、室...</td>\n",
       "      <td>要</td>\n",
       "      <td>月額手数料１１４０円／口座振替手数料１１０円／セーフティ補償料５７０円</td>\n",
       "      <td>合計6.76万円（内訳：保証会社加入必須４５６００円／カギ交換費用２２０００円）</td>\n",
       "      <td>神奈川県川崎市中原区中丸子</td>\n",
       "      <td>2012年1月</td>\n",
       "      <td>クレール武蔵小杉</td>\n",
       "      <td>NaN</td>\n",
       "      <td>-</td>\n",
       "      <td>-</td>\n",
       "    </tr>\n",
       "  </tbody>\n",
       "</table>\n",
       "</div>"
      ],
      "text/plain": [
       "  kanrihi madori menseki  reikin shikikin   yatin           ekitoho kaidate  \\\n",
       "0   6000円    1DK  30.21m  10.8万円   10.8万円  10.8万円  ＪＲ横須賀線/武蔵小杉駅 歩4分  3階/6階建   \n",
       "\n",
       "  keiyaku_kikan  kozo madori_detail    nyukyo  \\\n",
       "0           NaN  鉄筋コン      洋5 DK8.6  '22年1月中旬   \n",
       "\n",
       "                                              others sonpo  \\\n",
       "0  バストイレ別、バルコニー、エアコン、ガスコンロ対応、クロゼット、浴室乾燥機、オートロック、室...     要   \n",
       "\n",
       "                               syohiyo  \\\n",
       "0  月額手数料１１４０円／口座振替手数料１１０円／セーフティ補償料５７０円   \n",
       "\n",
       "                                    syokihi       syozaiti tikunengetu  \\\n",
       "0  合計6.76万円（内訳：保証会社加入必須４５６００円／カギ交換費用２２０００円）  神奈川県川崎市中原区中丸子     2012年1月   \n",
       "\n",
       "      title tyukai_tesuryo tyusyazyo zyoken  \n",
       "0  クレール武蔵小杉            NaN         -      -  "
      ]
     },
     "execution_count": 290,
     "metadata": {},
     "output_type": "execute_result"
    }
   ],
   "source": [
    "train.head(1)"
   ]
  },
  {
   "cell_type": "markdown",
   "id": "e51e85a7",
   "metadata": {},
   "source": [
    "## 自然言語処理用"
   ]
  },
  {
   "cell_type": "code",
   "execution_count": 294,
   "id": "884ca4b6",
   "metadata": {},
   "outputs": [],
   "source": [
    "def make_target(df):\n",
    "    df[\"kanrihi\"] = df[\"kanrihi\"].fillna(\"0円\")\n",
    "    df[\"kanrihi\"] = train[\"kanrihi\"].map(lambda d: \"0円\" if d==\"-\" else d)\n",
    "    \n",
    "    kanrihi = df[\"kanrihi\"].map(lambda d: int(d[:-1]))\n",
    "    yatin = df[\"yatin\"].map(lambda d: float(d[:-2])*10000)\n",
    "    \n",
    "    df[\"target\"] = kanrihi + yatin\n",
    "    return df"
   ]
  },
  {
   "cell_type": "code",
   "execution_count": 304,
   "id": "a687cf45",
   "metadata": {},
   "outputs": [],
   "source": [
    "def make_others(df):\n",
    "    others = np.array(df[\"others\"])\n",
    "    \n",
    "    features = {}\n",
    "    features[\"madori\"] = np.array(df[\"madori\"])\n",
    "    features[\"madori_detail\"] = np.array(df[\"madori_detail\"].str.replace(\" \", \"\"))\n",
    "    features[\"kozo\"] = np.array(df[\"kozo\"])\n",
    "    \n",
    "    # ----- kaidate\n",
    "    # 「x階/y階建」のような形式\n",
    "    # 「x階、y階建」としてデータ追加\n",
    "    features[\"kaidate_x_kai\"] = np.array(df[\"kaidate\"].map(lambda d: d.split(\"/\")[0] if \"/\" in d else \"<S>\"))\n",
    "    features[\"kaidate_y_kaidate\"] = np.array(df[\"kaidate\"].map(lambda d: d.split(\"/\")[1] if \"/\" in d else d))\n",
    "    # ----- \n",
    "    \n",
    "    # ----- menseki\n",
    "    # 「30.21m」みたいな形式\n",
    "    # 「30m」としてデータ追加\n",
    "    features[\"menseki\"] = np.array(df[\"menseki\"].map(lambda d: d.split(\".\")[0] + \"m\" if \".\" in d else d))\n",
    "    # -----\n",
    "    \n",
    "    # ----- ekitoho\n",
    "    # 「xx線/yy駅 歩zz分」みたいな形式\n",
    "    # 「xx、yy、zz」としてデータ追加\n",
    "    features[\"ekitoho_xx_sen\"] = np.array(df[\"ekitoho\"].map(lambda d: d.split(\"/\")[0]))\n",
    "    features[\"ekitoho_yy_eki\"] = np.array(df[\"ekitoho\"].map(lambda d: d.split(\"/\")[1].split(\" \")[0]))\n",
    "    features[\"ekitoho_zz_hun\"] = np.array(df[\"ekitoho\"].map(lambda d: d.split(\"/\")[1].split(\" \")[1]))\n",
    "    # -----\n",
    "    \n",
    "    # ----- syozaiti\n",
    "    # 「xx県yy市zz区aa」みたいな形式\n",
    "    # 「aa」としてデータ追加\n",
    "    features[\"syozaiti_aa\"] = np.array(df[\"syozaiti\"].map(lambda d: d.split(\"区\")[1]))\n",
    "    # -----\n",
    "    \n",
    "    # ----- tikunengetu\n",
    "    # 「xxxx年yy月」みたいな形式\n",
    "    # 「xxxx年、yy月」としてデータ追加 or 「xxx年」のみ追加する\n",
    "    features[\"tikunengetu_xxxx_nen\"] = np.array(df[\"tikunengetu\"].map(lambda d: d.split(\"年\")[0]+\"年\"))\n",
    "    # -----\n",
    "    \n",
    "    for i in range(len(others)):\n",
    "        for v in features.values():\n",
    "            others[i] = others[i] + \"、\" + v[i]\n",
    "    \n",
    "    df[\"others_add_features\"] = others\n",
    "    return df"
   ]
  },
  {
   "cell_type": "code",
   "execution_count": 305,
   "id": "ab05c433",
   "metadata": {},
   "outputs": [],
   "source": [
    "train = make_others(train)"
   ]
  },
  {
   "cell_type": "code",
   "execution_count": 306,
   "id": "656b3fc1",
   "metadata": {
    "scrolled": true
   },
   "outputs": [
    {
     "data": {
      "text/html": [
       "<div>\n",
       "<style scoped>\n",
       "    .dataframe tbody tr th:only-of-type {\n",
       "        vertical-align: middle;\n",
       "    }\n",
       "\n",
       "    .dataframe tbody tr th {\n",
       "        vertical-align: top;\n",
       "    }\n",
       "\n",
       "    .dataframe thead th {\n",
       "        text-align: right;\n",
       "    }\n",
       "</style>\n",
       "<table border=\"1\" class=\"dataframe\">\n",
       "  <thead>\n",
       "    <tr style=\"text-align: right;\">\n",
       "      <th></th>\n",
       "      <th>others</th>\n",
       "      <th>target</th>\n",
       "      <th>others_add_features</th>\n",
       "    </tr>\n",
       "  </thead>\n",
       "  <tbody>\n",
       "    <tr>\n",
       "      <th>0</th>\n",
       "      <td>バストイレ別、バルコニー、エアコン、ガスコンロ対応、クロゼット、浴室乾燥機、オートロック、室...</td>\n",
       "      <td>114000.0</td>\n",
       "      <td>バストイレ別、バルコニー、エアコン、ガスコンロ対応、クロゼット、浴室乾燥機、オートロック、室...</td>\n",
       "    </tr>\n",
       "    <tr>\n",
       "      <th>1</th>\n",
       "      <td>バストイレ別、バルコニー、エアコン、ガスコンロ対応、クロゼット、フローリング、シャワー付洗面...</td>\n",
       "      <td>92000.0</td>\n",
       "      <td>バストイレ別、バルコニー、エアコン、ガスコンロ対応、クロゼット、フローリング、シャワー付洗面...</td>\n",
       "    </tr>\n",
       "  </tbody>\n",
       "</table>\n",
       "</div>"
      ],
      "text/plain": [
       "                                              others    target  \\\n",
       "0  バストイレ別、バルコニー、エアコン、ガスコンロ対応、クロゼット、浴室乾燥機、オートロック、室...  114000.0   \n",
       "1  バストイレ別、バルコニー、エアコン、ガスコンロ対応、クロゼット、フローリング、シャワー付洗面...   92000.0   \n",
       "\n",
       "                                 others_add_features  \n",
       "0  バストイレ別、バルコニー、エアコン、ガスコンロ対応、クロゼット、浴室乾燥機、オートロック、室...  \n",
       "1  バストイレ別、バルコニー、エアコン、ガスコンロ対応、クロゼット、フローリング、シャワー付洗面...  "
      ]
     },
     "execution_count": 306,
     "metadata": {},
     "output_type": "execute_result"
    }
   ],
   "source": [
    "data = train[[\n",
    "    \"others\", \"target\", \"others_add_features\"\n",
    "]]\n",
    "data.head(2)"
   ]
  },
  {
   "cell_type": "code",
   "execution_count": 307,
   "id": "3d407928",
   "metadata": {},
   "outputs": [
    {
     "name": "stderr",
     "output_type": "stream",
     "text": [
      "/var/folders/zz/_w2wkl154x92vr0xrhpjx2800000gn/T/ipykernel_44423/3529192667.py:1: SettingWithCopyWarning: \n",
      "A value is trying to be set on a copy of a slice from a DataFrame.\n",
      "Try using .loc[row_indexer,col_indexer] = value instead\n",
      "\n",
      "See the caveats in the documentation: https://pandas.pydata.org/pandas-docs/stable/user_guide/indexing.html#returning-a-view-versus-a-copy\n",
      "  data[\"others_add_features_list\"] = data[\"others_add_features\"].map(lambda d: d.split(\"、\"))\n"
     ]
    }
   ],
   "source": [
    "data[\"others_add_features_list\"] = data[\"others_add_features\"].map(lambda d: d.split(\"、\"))"
   ]
  },
  {
   "cell_type": "code",
   "execution_count": 308,
   "id": "ab213ef2",
   "metadata": {},
   "outputs": [
    {
     "data": {
      "text/html": [
       "<div>\n",
       "<style scoped>\n",
       "    .dataframe tbody tr th:only-of-type {\n",
       "        vertical-align: middle;\n",
       "    }\n",
       "\n",
       "    .dataframe tbody tr th {\n",
       "        vertical-align: top;\n",
       "    }\n",
       "\n",
       "    .dataframe thead th {\n",
       "        text-align: right;\n",
       "    }\n",
       "</style>\n",
       "<table border=\"1\" class=\"dataframe\">\n",
       "  <thead>\n",
       "    <tr style=\"text-align: right;\">\n",
       "      <th></th>\n",
       "      <th>others</th>\n",
       "      <th>target</th>\n",
       "      <th>others_add_features</th>\n",
       "      <th>others_add_features_list</th>\n",
       "    </tr>\n",
       "  </thead>\n",
       "  <tbody>\n",
       "    <tr>\n",
       "      <th>0</th>\n",
       "      <td>バストイレ別、バルコニー、エアコン、ガスコンロ対応、クロゼット、浴室乾燥機、オートロック、室...</td>\n",
       "      <td>114000.0</td>\n",
       "      <td>バストイレ別、バルコニー、エアコン、ガスコンロ対応、クロゼット、浴室乾燥機、オートロック、室...</td>\n",
       "      <td>[バストイレ別, バルコニー, エアコン, ガスコンロ対応, クロゼット, 浴室乾燥機, オ...</td>\n",
       "    </tr>\n",
       "    <tr>\n",
       "      <th>1</th>\n",
       "      <td>バストイレ別、バルコニー、エアコン、ガスコンロ対応、クロゼット、フローリング、シャワー付洗面...</td>\n",
       "      <td>92000.0</td>\n",
       "      <td>バストイレ別、バルコニー、エアコン、ガスコンロ対応、クロゼット、フローリング、シャワー付洗面...</td>\n",
       "      <td>[バストイレ別, バルコニー, エアコン, ガスコンロ対応, クロゼット, フローリング, ...</td>\n",
       "    </tr>\n",
       "    <tr>\n",
       "      <th>2</th>\n",
       "      <td>バストイレ別、バルコニー、エアコン、ガスコンロ対応、クロゼット、TVインターホン、浴室乾燥機...</td>\n",
       "      <td>92000.0</td>\n",
       "      <td>バストイレ別、バルコニー、エアコン、ガスコンロ対応、クロゼット、TVインターホン、浴室乾燥機...</td>\n",
       "      <td>[バストイレ別, バルコニー, エアコン, ガスコンロ対応, クロゼット, TVインターホン...</td>\n",
       "    </tr>\n",
       "  </tbody>\n",
       "</table>\n",
       "</div>"
      ],
      "text/plain": [
       "                                              others    target  \\\n",
       "0  バストイレ別、バルコニー、エアコン、ガスコンロ対応、クロゼット、浴室乾燥機、オートロック、室...  114000.0   \n",
       "1  バストイレ別、バルコニー、エアコン、ガスコンロ対応、クロゼット、フローリング、シャワー付洗面...   92000.0   \n",
       "2  バストイレ別、バルコニー、エアコン、ガスコンロ対応、クロゼット、TVインターホン、浴室乾燥機...   92000.0   \n",
       "\n",
       "                                 others_add_features  \\\n",
       "0  バストイレ別、バルコニー、エアコン、ガスコンロ対応、クロゼット、浴室乾燥機、オートロック、室...   \n",
       "1  バストイレ別、バルコニー、エアコン、ガスコンロ対応、クロゼット、フローリング、シャワー付洗面...   \n",
       "2  バストイレ別、バルコニー、エアコン、ガスコンロ対応、クロゼット、TVインターホン、浴室乾燥機...   \n",
       "\n",
       "                            others_add_features_list  \n",
       "0  [バストイレ別, バルコニー, エアコン, ガスコンロ対応, クロゼット, 浴室乾燥機, オ...  \n",
       "1  [バストイレ別, バルコニー, エアコン, ガスコンロ対応, クロゼット, フローリング, ...  \n",
       "2  [バストイレ別, バルコニー, エアコン, ガスコンロ対応, クロゼット, TVインターホン...  "
      ]
     },
     "execution_count": 308,
     "metadata": {},
     "output_type": "execute_result"
    }
   ],
   "source": [
    "data.head(3)"
   ]
  },
  {
   "cell_type": "code",
   "execution_count": 311,
   "id": "b0bd1880",
   "metadata": {},
   "outputs": [],
   "source": [
    "def print_others(df, n=5):\n",
    "    for i in range(n):\n",
    "        r = int(np.random.uniform(low=0, high=len(df), size=None))\n",
    "        print(\" ----- \")\n",
    "        print(df[\"others\"][r])\n",
    "        print(\" ----- \")\n",
    "        print(df[\"others_add_features\"][r])\n",
    "        print(\" ----- \")\n",
    "        print(df[\"others_add_features_list\"][r])\n",
    "        print(\" ----- \")\n",
    "        print()\n"
   ]
  },
  {
   "cell_type": "code",
   "execution_count": 312,
   "id": "b6f54a1e",
   "metadata": {},
   "outputs": [
    {
     "name": "stdout",
     "output_type": "stream",
     "text": [
      " ----- \n",
      "バストイレ別、バルコニー、エアコン、ガスコンロ対応、シャワー付洗面台、TVインターホン、浴室乾燥機、室内洗濯置、シューズボックス、システムキッチン、南向き、追焚機能浴室、角住戸、温水洗浄便座、洗面所独立、洗面化粧台、駐輪場、宅配ボックス、3口以上コンロ、ペット相談、グリル付、保証人不要、CS、ネット使用料不要、浄水器、ダブルロックキー、24時間換気システム、複層ガラス、人感照明センサー、都市ガス、室内物干機、BS、IT重説 対応物件、初期費用カード決済可、家賃カード決済可\n",
      " ----- \n",
      "バストイレ別、バルコニー、エアコン、ガスコンロ対応、シャワー付洗面台、TVインターホン、浴室乾燥機、室内洗濯置、シューズボックス、システムキッチン、南向き、追焚機能浴室、角住戸、温水洗浄便座、洗面所独立、洗面化粧台、駐輪場、宅配ボックス、3口以上コンロ、ペット相談、グリル付、保証人不要、CS、ネット使用料不要、浄水器、ダブルロックキー、24時間換気システム、複層ガラス、人感照明センサー、都市ガス、室内物干機、BS、IT重説 対応物件、初期費用カード決済可、家賃カード決済可、2LDK、洋6洋6LDK14.10、木造、2階、3階建、62m、東急田園都市線、鷺沼駅、バス18分、南野川２、2019年\n",
      " ----- \n",
      "['バストイレ別', 'バルコニー', 'エアコン', 'ガスコンロ対応', 'シャワー付洗面台', 'TVインターホン', '浴室乾燥機', '室内洗濯置', 'シューズボックス', 'システムキッチン', '南向き', '追焚機能浴室', '角住戸', '温水洗浄便座', '洗面所独立', '洗面化粧台', '駐輪場', '宅配ボックス', '3口以上コンロ', 'ペット相談', 'グリル付', '保証人不要', 'CS', 'ネット使用料不要', '浄水器', 'ダブルロックキー', '24時間換気システム', '複層ガラス', '人感照明センサー', '都市ガス', '室内物干機', 'BS', 'IT重説 対応物件', '初期費用カード決済可', '家賃カード決済可', '2LDK', '洋6洋6LDK14.10', '木造', '2階', '3階建', '62m', '東急田園都市線', '鷺沼駅', 'バス18分', '南野川２', '2019年']\n",
      " ----- \n",
      "\n",
      " ----- \n",
      "バストイレ別、バルコニー、エアコン、シャワー付洗面台、TVインターホン、浴室乾燥機、オートロック、室内洗濯置、シューズボックス、角住戸、温水洗浄便座、脱衣所、エレベーター、洗面所独立、駐輪場、宅配ボックス、CATV、光ファイバー、2面採光、敷金不要、IHクッキングヒーター、ウォークインクロゼット、駅まで平坦、浴室に窓、24時間換気システム、3駅以上利用可、3沿線以上利用可、駅徒歩10分以内、敷地内ごみ置き場、当社管理物件、都市ガス、BS\n",
      " ----- \n",
      "バストイレ別、バルコニー、エアコン、シャワー付洗面台、TVインターホン、浴室乾燥機、オートロック、室内洗濯置、シューズボックス、角住戸、温水洗浄便座、脱衣所、エレベーター、洗面所独立、駐輪場、宅配ボックス、CATV、光ファイバー、2面採光、敷金不要、IHクッキングヒーター、ウォークインクロゼット、駅まで平坦、浴室に窓、24時間換気システム、3駅以上利用可、3沿線以上利用可、駅徒歩10分以内、敷地内ごみ置き場、当社管理物件、都市ガス、BS、1K、洋10.3K4.7、鉄筋コン、4階、6階建、33m、ＪＲ南武線、平間駅、歩7分、中丸子、2015年\n",
      " ----- \n",
      "['バストイレ別', 'バルコニー', 'エアコン', 'シャワー付洗面台', 'TVインターホン', '浴室乾燥機', 'オートロック', '室内洗濯置', 'シューズボックス', '角住戸', '温水洗浄便座', '脱衣所', 'エレベーター', '洗面所独立', '駐輪場', '宅配ボックス', 'CATV', '光ファイバー', '2面採光', '敷金不要', 'IHクッキングヒーター', 'ウォークインクロゼット', '駅まで平坦', '浴室に窓', '24時間換気システム', '3駅以上利用可', '3沿線以上利用可', '駅徒歩10分以内', '敷地内ごみ置き場', '当社管理物件', '都市ガス', 'BS', '1K', '洋10.3K4.7', '鉄筋コン', '4階', '6階建', '33m', 'ＪＲ南武線', '平間駅', '歩7分', '中丸子', '2015年']\n",
      " ----- \n",
      "\n",
      " ----- \n",
      "バストイレ別、バルコニー、エアコン、クロゼット、フローリング、シャワー付洗面台、浴室乾燥機、室内洗濯置、陽当り良好、シューズボックス、システムキッチン、南向き、追焚機能浴室、角住戸、温水洗浄便座、脱衣所、洗面所独立、洗面化粧台、駐輪場、2面採光、3口以上コンロ、出窓、ロフト、オートバス、グリル付、全居室洋室、東南角住戸、全居室フローリング、玄関ホール、エアコン2台、駅まで平坦、キッチンに窓、エアコン全室、床下収納、ダブルロックキー、浴室に窓、24時間換気システム、平坦地、南面リビング、全室2面採光、3駅以上利用可、3沿線以上利用可、駅徒歩10分以内、全居室6畳以上、都市ガス、南面バルコニー、シャッター\n",
      " ----- \n",
      "バストイレ別、バルコニー、エアコン、クロゼット、フローリング、シャワー付洗面台、浴室乾燥機、室内洗濯置、陽当り良好、シューズボックス、システムキッチン、南向き、追焚機能浴室、角住戸、温水洗浄便座、脱衣所、洗面所独立、洗面化粧台、駐輪場、2面採光、3口以上コンロ、出窓、ロフト、オートバス、グリル付、全居室洋室、東南角住戸、全居室フローリング、玄関ホール、エアコン2台、駅まで平坦、キッチンに窓、エアコン全室、床下収納、ダブルロックキー、浴室に窓、24時間換気システム、平坦地、南面リビング、全室2面採光、3駅以上利用可、3沿線以上利用可、駅徒歩10分以内、全居室6畳以上、都市ガス、南面バルコニー、シャッター、1LDK、洋7LDK11、木造、1階、2階建、47m、東急東横線、武蔵小杉駅、歩10分、今井仲町、2013年\n",
      " ----- \n",
      "['バストイレ別', 'バルコニー', 'エアコン', 'クロゼット', 'フローリング', 'シャワー付洗面台', '浴室乾燥機', '室内洗濯置', '陽当り良好', 'シューズボックス', 'システムキッチン', '南向き', '追焚機能浴室', '角住戸', '温水洗浄便座', '脱衣所', '洗面所独立', '洗面化粧台', '駐輪場', '2面採光', '3口以上コンロ', '出窓', 'ロフト', 'オートバス', 'グリル付', '全居室洋室', '東南角住戸', '全居室フローリング', '玄関ホール', 'エアコン2台', '駅まで平坦', 'キッチンに窓', 'エアコン全室', '床下収納', 'ダブルロックキー', '浴室に窓', '24時間換気システム', '平坦地', '南面リビング', '全室2面採光', '3駅以上利用可', '3沿線以上利用可', '駅徒歩10分以内', '全居室6畳以上', '都市ガス', '南面バルコニー', 'シャッター', '1LDK', '洋7LDK11', '木造', '1階', '2階建', '47m', '東急東横線', '武蔵小杉駅', '歩10分', '今井仲町', '2013年']\n",
      " ----- \n",
      "\n",
      " ----- \n",
      "バストイレ別、エアコン、ガスコンロ対応、クロゼット、フローリング、室内洗濯置、脱衣所、洗面所独立、2口コンロ、外壁タイル張り、即入居可、最上階、敷金1ヶ月、二人入居相談、2面バルコニー、3面採光、洗濯機、保証金不要、収納2間半、ルームシェア相談、3駅以上利用可、礼金1ヶ月、初期費用カード決済可\n",
      " ----- \n",
      "バストイレ別、エアコン、ガスコンロ対応、クロゼット、フローリング、室内洗濯置、脱衣所、洗面所独立、2口コンロ、外壁タイル張り、即入居可、最上階、敷金1ヶ月、二人入居相談、2面バルコニー、3面採光、洗濯機、保証金不要、収納2間半、ルームシェア相談、3駅以上利用可、礼金1ヶ月、初期費用カード決済可、1DK、洋6DK6、鉄骨、3階、3階建、26m、東急東横線、元住吉駅、歩12分、井田中ノ町、1990年\n",
      " ----- \n",
      "['バストイレ別', 'エアコン', 'ガスコンロ対応', 'クロゼット', 'フローリング', '室内洗濯置', '脱衣所', '洗面所独立', '2口コンロ', '外壁タイル張り', '即入居可', '最上階', '敷金1ヶ月', '二人入居相談', '2面バルコニー', '3面採光', '洗濯機', '保証金不要', '収納2間半', 'ルームシェア相談', '3駅以上利用可', '礼金1ヶ月', '初期費用カード決済可', '1DK', '洋6DK6', '鉄骨', '3階', '3階建', '26m', '東急東横線', '元住吉駅', '歩12分', '井田中ノ町', '1990年']\n",
      " ----- \n",
      "\n",
      " ----- \n",
      "バストイレ別、エアコン、フローリング、浴室乾燥機、室内洗濯置、温水洗浄便座、洗面化粧台、駐輪場、CATV、光ファイバー、礼金不要、敷金不要、ペット相談、IHクッキングヒーター、照明付、ロフト、バイク置場、防犯シャッター、全居室フローリング、ネット使用料不要、保証金不要、敷地内ごみ置き場、敷金・礼金不要、IT重説 対応物件、通風良好\n",
      " ----- \n",
      "バストイレ別、エアコン、フローリング、浴室乾燥機、室内洗濯置、温水洗浄便座、洗面化粧台、駐輪場、CATV、光ファイバー、礼金不要、敷金不要、ペット相談、IHクッキングヒーター、照明付、ロフト、バイク置場、防犯シャッター、全居室フローリング、ネット使用料不要、保証金不要、敷地内ごみ置き場、敷金・礼金不要、IT重説 対応物件、通風良好、ワンルーム、洋4.8ロフト4.4、木造、1階、2階建、13m、ＪＲ南武線、武蔵新城駅、歩27分、千年、2014年\n",
      " ----- \n",
      "['バストイレ別', 'エアコン', 'フローリング', '浴室乾燥機', '室内洗濯置', '温水洗浄便座', '洗面化粧台', '駐輪場', 'CATV', '光ファイバー', '礼金不要', '敷金不要', 'ペット相談', 'IHクッキングヒーター', '照明付', 'ロフト', 'バイク置場', '防犯シャッター', '全居室フローリング', 'ネット使用料不要', '保証金不要', '敷地内ごみ置き場', '敷金・礼金不要', 'IT重説 対応物件', '通風良好', 'ワンルーム', '洋4.8ロフト4.4', '木造', '1階', '2階建', '13m', 'ＪＲ南武線', '武蔵新城駅', '歩27分', '千年', '2014年']\n",
      " ----- \n",
      "\n",
      " ----- \n",
      "バルコニー、エアコン、クロゼット、フローリング、室内洗濯置、シューズボックス、システムキッチン、エレベーター、外壁タイル張り、即入居可、最上階、IHクッキングヒーター、照明付、分譲賃貸、保証人不要、単身者相談、敷金1ヶ月、ディンプルキー、駅まで平坦、洗濯機、眺望良好、ダブルロックキー、乾燥機、3駅以上利用可、3沿線以上利用可、駅徒歩5分以内、バス停徒歩3分以内、上階無し、24時間ゴミ出し可、敷地内ごみ置き場、都市ガス、礼金1ヶ月、IT重説 対応物件、通風良好\n",
      " ----- \n",
      "バルコニー、エアコン、クロゼット、フローリング、室内洗濯置、シューズボックス、システムキッチン、エレベーター、外壁タイル張り、即入居可、最上階、IHクッキングヒーター、照明付、分譲賃貸、保証人不要、単身者相談、敷金1ヶ月、ディンプルキー、駅まで平坦、洗濯機、眺望良好、ダブルロックキー、乾燥機、3駅以上利用可、3沿線以上利用可、駅徒歩5分以内、バス停徒歩3分以内、上階無し、24時間ゴミ出し可、敷地内ごみ置き場、都市ガス、礼金1ヶ月、IT重説 対応物件、通風良好、ワンルーム、洋6.5、鉄筋コン、8階、8階建、16m、東急東横線、新丸子駅、歩3分、新丸子町、1990年\n",
      " ----- \n",
      "['バルコニー', 'エアコン', 'クロゼット', 'フローリング', '室内洗濯置', 'シューズボックス', 'システムキッチン', 'エレベーター', '外壁タイル張り', '即入居可', '最上階', 'IHクッキングヒーター', '照明付', '分譲賃貸', '保証人不要', '単身者相談', '敷金1ヶ月', 'ディンプルキー', '駅まで平坦', '洗濯機', '眺望良好', 'ダブルロックキー', '乾燥機', '3駅以上利用可', '3沿線以上利用可', '駅徒歩5分以内', 'バス停徒歩3分以内', '上階無し', '24時間ゴミ出し可', '敷地内ごみ置き場', '都市ガス', '礼金1ヶ月', 'IT重説 対応物件', '通風良好', 'ワンルーム', '洋6.5', '鉄筋コン', '8階', '8階建', '16m', '東急東横線', '新丸子駅', '歩3分', '新丸子町', '1990年']\n",
      " ----- \n",
      "\n",
      " ----- \n",
      "バストイレ別、エアコン、フローリング、TVインターホン、浴室乾燥機、室内洗濯置、陽当り良好、シューズボックス、システムキッチン、角住戸、温水洗浄便座、脱衣所、駐輪場、礼金不要、閑静な住宅地、2面採光、最上階、敷金不要、IHクッキングヒーター、ロフト、全居室洋室、保証人不要、全居室フローリング、ディンプルキー、ネット使用料不要、エアコン全室、ダブルロックキー、保証金不要、全室2面採光、2駅利用可、上階無し、プロパンガス、シャワールーム、敷金・礼金不要\n",
      " ----- \n",
      "バストイレ別、エアコン、フローリング、TVインターホン、浴室乾燥機、室内洗濯置、陽当り良好、シューズボックス、システムキッチン、角住戸、温水洗浄便座、脱衣所、駐輪場、礼金不要、閑静な住宅地、2面採光、最上階、敷金不要、IHクッキングヒーター、ロフト、全居室洋室、保証人不要、全居室フローリング、ディンプルキー、ネット使用料不要、エアコン全室、ダブルロックキー、保証金不要、全室2面採光、2駅利用可、上階無し、プロパンガス、シャワールーム、敷金・礼金不要、ワンルーム、洋5.9ロフト3、木造、2階、2階建、13m、東急東横線、日吉駅、歩17分、井田２、2016年\n",
      " ----- \n",
      "['バストイレ別', 'エアコン', 'フローリング', 'TVインターホン', '浴室乾燥機', '室内洗濯置', '陽当り良好', 'シューズボックス', 'システムキッチン', '角住戸', '温水洗浄便座', '脱衣所', '駐輪場', '礼金不要', '閑静な住宅地', '2面採光', '最上階', '敷金不要', 'IHクッキングヒーター', 'ロフト', '全居室洋室', '保証人不要', '全居室フローリング', 'ディンプルキー', 'ネット使用料不要', 'エアコン全室', 'ダブルロックキー', '保証金不要', '全室2面採光', '2駅利用可', '上階無し', 'プロパンガス', 'シャワールーム', '敷金・礼金不要', 'ワンルーム', '洋5.9ロフト3', '木造', '2階', '2階建', '13m', '東急東横線', '日吉駅', '歩17分', '井田２', '2016年']\n",
      " ----- \n",
      "\n",
      " ----- \n",
      "バストイレ別、バルコニー、エアコン、ガスコンロ対応、クロゼット、フローリング、TVインターホン、浴室乾燥機、オートロック、室内洗濯置、シューズボックス、システムキッチン、温水洗浄便座、エレベーター、2口コンロ、駐輪場、宅配ボックス、外壁タイル張り、即入居可、閑静な住宅地、防犯カメラ、分譲賃貸、保証人不要、2沿線利用可、ディンプルキー、CS、駅まで平坦、24時間換気システム、平坦地、人感照明センサー、2駅利用可、3駅以上利用可、24時間ゴミ出し可、敷地内ごみ置き場、当社管理物件、都市ガス、BS\n",
      " ----- \n",
      "バストイレ別、バルコニー、エアコン、ガスコンロ対応、クロゼット、フローリング、TVインターホン、浴室乾燥機、オートロック、室内洗濯置、シューズボックス、システムキッチン、温水洗浄便座、エレベーター、2口コンロ、駐輪場、宅配ボックス、外壁タイル張り、即入居可、閑静な住宅地、防犯カメラ、分譲賃貸、保証人不要、2沿線利用可、ディンプルキー、CS、駅まで平坦、24時間換気システム、平坦地、人感照明センサー、2駅利用可、3駅以上利用可、24時間ゴミ出し可、敷地内ごみ置き場、当社管理物件、都市ガス、BS、1K、K6.0、鉄筋コン、3階、9階建、20m、東急東横線、武蔵小杉駅、歩4分、新丸子町、2012年\n",
      " ----- \n",
      "['バストイレ別', 'バルコニー', 'エアコン', 'ガスコンロ対応', 'クロゼット', 'フローリング', 'TVインターホン', '浴室乾燥機', 'オートロック', '室内洗濯置', 'シューズボックス', 'システムキッチン', '温水洗浄便座', 'エレベーター', '2口コンロ', '駐輪場', '宅配ボックス', '外壁タイル張り', '即入居可', '閑静な住宅地', '防犯カメラ', '分譲賃貸', '保証人不要', '2沿線利用可', 'ディンプルキー', 'CS', '駅まで平坦', '24時間換気システム', '平坦地', '人感照明センサー', '2駅利用可', '3駅以上利用可', '24時間ゴミ出し可', '敷地内ごみ置き場', '当社管理物件', '都市ガス', 'BS', '1K', 'K6.0', '鉄筋コン', '3階', '9階建', '20m', '東急東横線', '武蔵小杉駅', '歩4分', '新丸子町', '2012年']\n",
      " ----- \n",
      "\n",
      " ----- \n",
      "バストイレ別、バルコニー、エアコン、ガスコンロ対応、クロゼット、フローリング、室内洗濯置、陽当り良好、南向き、角住戸、脱衣所、洗面所独立、洗面化粧台、即入居可、閑静な住宅地、最上階、独立型キッチン、全居室洋室、保証人不要、二人入居相談、全居室フローリング、3面採光、2沿線利用可、ネット専用回線、駅まで平坦、内装リフォーム済、眺望良好、クロゼット2ヶ所、平坦地、四方角部屋、2駅利用可、駅徒歩10分以内、上階無し、当社管理物件、全居室6畳以上、都市ガス、シャワールーム、洗面所にドア、南面バルコニー、保証会社利用可、通風良好\n",
      " ----- \n",
      "バストイレ別、バルコニー、エアコン、ガスコンロ対応、クロゼット、フローリング、室内洗濯置、陽当り良好、南向き、角住戸、脱衣所、洗面所独立、洗面化粧台、即入居可、閑静な住宅地、最上階、独立型キッチン、全居室洋室、保証人不要、二人入居相談、全居室フローリング、3面採光、2沿線利用可、ネット専用回線、駅まで平坦、内装リフォーム済、眺望良好、クロゼット2ヶ所、平坦地、四方角部屋、2駅利用可、駅徒歩10分以内、上階無し、当社管理物件、全居室6畳以上、都市ガス、シャワールーム、洗面所にドア、南面バルコニー、保証会社利用可、通風良好、1DK、洋9DK6.5、鉄骨、3階、3階建、42m、ＪＲ南武線、向河原駅、歩13分、市ノ坪、1986年\n",
      " ----- \n",
      "['バストイレ別', 'バルコニー', 'エアコン', 'ガスコンロ対応', 'クロゼット', 'フローリング', '室内洗濯置', '陽当り良好', '南向き', '角住戸', '脱衣所', '洗面所独立', '洗面化粧台', '即入居可', '閑静な住宅地', '最上階', '独立型キッチン', '全居室洋室', '保証人不要', '二人入居相談', '全居室フローリング', '3面採光', '2沿線利用可', 'ネット専用回線', '駅まで平坦', '内装リフォーム済', '眺望良好', 'クロゼット2ヶ所', '平坦地', '四方角部屋', '2駅利用可', '駅徒歩10分以内', '上階無し', '当社管理物件', '全居室6畳以上', '都市ガス', 'シャワールーム', '洗面所にドア', '南面バルコニー', '保証会社利用可', '通風良好', '1DK', '洋9DK6.5', '鉄骨', '3階', '3階建', '42m', 'ＪＲ南武線', '向河原駅', '歩13分', '市ノ坪', '1986年']\n",
      " ----- \n",
      "\n",
      " ----- \n",
      "バストイレ別、バルコニー、エアコン、ガスコンロ対応、クロゼット、フローリング、シャワー付洗面台、TVインターホン、浴室乾燥機、オートロック、室内洗濯置、シューズボックス、システムキッチン、追焚機能浴室、角住戸、温水洗浄便座、脱衣所、洗面所独立、洗面化粧台、2口コンロ、光ファイバー、閑静な住宅地、対面式キッチン、敷金1ヶ月、2沿線利用可、駅まで平坦、平坦地、防犯ガラス、2駅利用可、駅徒歩10分以内、敷地内ごみ置き場、東南向き、都市ガス、BS、高速ネット対応、初期費用カード決済可\n",
      " ----- \n",
      "バストイレ別、バルコニー、エアコン、ガスコンロ対応、クロゼット、フローリング、シャワー付洗面台、TVインターホン、浴室乾燥機、オートロック、室内洗濯置、シューズボックス、システムキッチン、追焚機能浴室、角住戸、温水洗浄便座、脱衣所、洗面所独立、洗面化粧台、2口コンロ、光ファイバー、閑静な住宅地、対面式キッチン、敷金1ヶ月、2沿線利用可、駅まで平坦、平坦地、防犯ガラス、2駅利用可、駅徒歩10分以内、敷地内ごみ置き場、東南向き、都市ガス、BS、高速ネット対応、初期費用カード決済可、1K、洋6.3K3.3、鉄骨、1階、3階建、24m、東急東横線、武蔵小杉駅、歩7分、上丸子山王町１、2011年\n",
      " ----- \n",
      "['バストイレ別', 'バルコニー', 'エアコン', 'ガスコンロ対応', 'クロゼット', 'フローリング', 'シャワー付洗面台', 'TVインターホン', '浴室乾燥機', 'オートロック', '室内洗濯置', 'シューズボックス', 'システムキッチン', '追焚機能浴室', '角住戸', '温水洗浄便座', '脱衣所', '洗面所独立', '洗面化粧台', '2口コンロ', '光ファイバー', '閑静な住宅地', '対面式キッチン', '敷金1ヶ月', '2沿線利用可', '駅まで平坦', '平坦地', '防犯ガラス', '2駅利用可', '駅徒歩10分以内', '敷地内ごみ置き場', '東南向き', '都市ガス', 'BS', '高速ネット対応', '初期費用カード決済可', '1K', '洋6.3K3.3', '鉄骨', '1階', '3階建', '24m', '東急東横線', '武蔵小杉駅', '歩7分', '上丸子山王町１', '2011年']\n",
      " ----- \n",
      "\n"
     ]
    }
   ],
   "source": [
    "print_others(data, n=10)"
   ]
  },
  {
   "cell_type": "code",
   "execution_count": 314,
   "id": "ea842c4c",
   "metadata": {},
   "outputs": [],
   "source": [
    "data.to_csv(root+\"output/house_price.csv\")"
   ]
  },
  {
   "cell_type": "code",
   "execution_count": 330,
   "id": "2e4b06f5",
   "metadata": {
    "scrolled": false
   },
   "outputs": [
    {
     "name": "stdout",
     "output_type": "stream",
     "text": [
      "データ数:  5190\n"
     ]
    },
    {
     "data": {
      "text/html": [
       "<div>\n",
       "<style scoped>\n",
       "    .dataframe tbody tr th:only-of-type {\n",
       "        vertical-align: middle;\n",
       "    }\n",
       "\n",
       "    .dataframe tbody tr th {\n",
       "        vertical-align: top;\n",
       "    }\n",
       "\n",
       "    .dataframe thead th {\n",
       "        text-align: right;\n",
       "    }\n",
       "</style>\n",
       "<table border=\"1\" class=\"dataframe\">\n",
       "  <thead>\n",
       "    <tr style=\"text-align: right;\">\n",
       "      <th></th>\n",
       "      <th>others</th>\n",
       "      <th>target</th>\n",
       "    </tr>\n",
       "  </thead>\n",
       "  <tbody>\n",
       "    <tr>\n",
       "      <th>0</th>\n",
       "      <td>バストイレ別、バルコニー、エアコン、ガスコンロ対応、クロゼット、浴室乾燥機、オートロック、室...</td>\n",
       "      <td>114000.0</td>\n",
       "    </tr>\n",
       "    <tr>\n",
       "      <th>1</th>\n",
       "      <td>バストイレ別、バルコニー、エアコン、ガスコンロ対応、クロゼット、フローリング、シャワー付洗面...</td>\n",
       "      <td>92000.0</td>\n",
       "    </tr>\n",
       "    <tr>\n",
       "      <th>2</th>\n",
       "      <td>バストイレ別、バルコニー、エアコン、ガスコンロ対応、クロゼット、TVインターホン、浴室乾燥機...</td>\n",
       "      <td>92000.0</td>\n",
       "    </tr>\n",
       "    <tr>\n",
       "      <th>3</th>\n",
       "      <td>バストイレ別、バルコニー、エアコン、クロゼット、フローリング、TVインターホン、浴室乾燥機、...</td>\n",
       "      <td>104000.0</td>\n",
       "    </tr>\n",
       "    <tr>\n",
       "      <th>4</th>\n",
       "      <td>バストイレ別、バルコニー、エアコン、ガスコンロ対応、クロゼット、フローリング、TVインターホ...</td>\n",
       "      <td>107000.0</td>\n",
       "    </tr>\n",
       "  </tbody>\n",
       "</table>\n",
       "</div>"
      ],
      "text/plain": [
       "                                              others    target\n",
       "0  バストイレ別、バルコニー、エアコン、ガスコンロ対応、クロゼット、浴室乾燥機、オートロック、室...  114000.0\n",
       "1  バストイレ別、バルコニー、エアコン、ガスコンロ対応、クロゼット、フローリング、シャワー付洗面...   92000.0\n",
       "2  バストイレ別、バルコニー、エアコン、ガスコンロ対応、クロゼット、TVインターホン、浴室乾燥機...   92000.0\n",
       "3  バストイレ別、バルコニー、エアコン、クロゼット、フローリング、TVインターホン、浴室乾燥機、...  104000.0\n",
       "4  バストイレ別、バルコニー、エアコン、ガスコンロ対応、クロゼット、フローリング、TVインターホ...  107000.0"
      ]
     },
     "metadata": {},
     "output_type": "display_data"
    },
    {
     "name": "stdout",
     "output_type": "stream",
     "text": [
      "others: \n",
      "バストイレ別、バルコニー、エアコン、クロゼット、フローリング、TVインターホン、浴室乾燥機、オートロック、室内洗濯置、シューズボックス、システムキッチン、温水洗浄便座、脱衣所、エレベーター、洗面所独立、2口コンロ、駐輪場、宅配ボックス、押入、即入居可、礼金不要、敷金不要、防犯カメラ、ペット相談、分譲賃貸、保証人不要、バイク置場、2沿線利用可、CS、ネット使用料不要、築2年以内、築3年以内、一部フローリング、ペット専用設備、トイレ未使用、2駅利用可、駅徒歩5分以内、駅徒歩10分以内、24時間ゴミ出し可、敷地内ごみ置き場、築5年以内、都市ガス、BS、敷金・礼金不要、保証会社利用可、IT重説 対応物件、初期費用カード決済可\n"
     ]
    }
   ],
   "source": [
    "def print_data_info(df):\n",
    "    print(\"データ数: \", len(df))\n",
    "    display(df.head())\n",
    "    print(\"others: \")\n",
    "    print(data.loc[100, \"others\"])\n",
    "    \n",
    "print_data_info(data[[\"others\", \"target\"]])\n"
   ]
  },
  {
   "cell_type": "code",
   "execution_count": 331,
   "id": "d89286cc",
   "metadata": {},
   "outputs": [
    {
     "name": "stdout",
     "output_type": "stream",
     "text": [
      "データ数:  5190\n"
     ]
    },
    {
     "data": {
      "text/html": [
       "<div>\n",
       "<style scoped>\n",
       "    .dataframe tbody tr th:only-of-type {\n",
       "        vertical-align: middle;\n",
       "    }\n",
       "\n",
       "    .dataframe tbody tr th {\n",
       "        vertical-align: top;\n",
       "    }\n",
       "\n",
       "    .dataframe thead th {\n",
       "        text-align: right;\n",
       "    }\n",
       "</style>\n",
       "<table border=\"1\" class=\"dataframe\">\n",
       "  <thead>\n",
       "    <tr style=\"text-align: right;\">\n",
       "      <th></th>\n",
       "      <th>others</th>\n",
       "      <th>target</th>\n",
       "      <th>others_add_features</th>\n",
       "    </tr>\n",
       "  </thead>\n",
       "  <tbody>\n",
       "    <tr>\n",
       "      <th>0</th>\n",
       "      <td>バストイレ別、バルコニー、エアコン、ガスコンロ対応、クロゼット、浴室乾燥機、オートロック、室...</td>\n",
       "      <td>114000.0</td>\n",
       "      <td>バストイレ別、バルコニー、エアコン、ガスコンロ対応、クロゼット、浴室乾燥機、オートロック、室...</td>\n",
       "    </tr>\n",
       "    <tr>\n",
       "      <th>1</th>\n",
       "      <td>バストイレ別、バルコニー、エアコン、ガスコンロ対応、クロゼット、フローリング、シャワー付洗面...</td>\n",
       "      <td>92000.0</td>\n",
       "      <td>バストイレ別、バルコニー、エアコン、ガスコンロ対応、クロゼット、フローリング、シャワー付洗面...</td>\n",
       "    </tr>\n",
       "    <tr>\n",
       "      <th>2</th>\n",
       "      <td>バストイレ別、バルコニー、エアコン、ガスコンロ対応、クロゼット、TVインターホン、浴室乾燥機...</td>\n",
       "      <td>92000.0</td>\n",
       "      <td>バストイレ別、バルコニー、エアコン、ガスコンロ対応、クロゼット、TVインターホン、浴室乾燥機...</td>\n",
       "    </tr>\n",
       "    <tr>\n",
       "      <th>3</th>\n",
       "      <td>バストイレ別、バルコニー、エアコン、クロゼット、フローリング、TVインターホン、浴室乾燥機、...</td>\n",
       "      <td>104000.0</td>\n",
       "      <td>バストイレ別、バルコニー、エアコン、クロゼット、フローリング、TVインターホン、浴室乾燥機、...</td>\n",
       "    </tr>\n",
       "    <tr>\n",
       "      <th>4</th>\n",
       "      <td>バストイレ別、バルコニー、エアコン、ガスコンロ対応、クロゼット、フローリング、TVインターホ...</td>\n",
       "      <td>107000.0</td>\n",
       "      <td>バストイレ別、バルコニー、エアコン、ガスコンロ対応、クロゼット、フローリング、TVインターホ...</td>\n",
       "    </tr>\n",
       "  </tbody>\n",
       "</table>\n",
       "</div>"
      ],
      "text/plain": [
       "                                              others    target  \\\n",
       "0  バストイレ別、バルコニー、エアコン、ガスコンロ対応、クロゼット、浴室乾燥機、オートロック、室...  114000.0   \n",
       "1  バストイレ別、バルコニー、エアコン、ガスコンロ対応、クロゼット、フローリング、シャワー付洗面...   92000.0   \n",
       "2  バストイレ別、バルコニー、エアコン、ガスコンロ対応、クロゼット、TVインターホン、浴室乾燥機...   92000.0   \n",
       "3  バストイレ別、バルコニー、エアコン、クロゼット、フローリング、TVインターホン、浴室乾燥機、...  104000.0   \n",
       "4  バストイレ別、バルコニー、エアコン、ガスコンロ対応、クロゼット、フローリング、TVインターホ...  107000.0   \n",
       "\n",
       "                                 others_add_features  \n",
       "0  バストイレ別、バルコニー、エアコン、ガスコンロ対応、クロゼット、浴室乾燥機、オートロック、室...  \n",
       "1  バストイレ別、バルコニー、エアコン、ガスコンロ対応、クロゼット、フローリング、シャワー付洗面...  \n",
       "2  バストイレ別、バルコニー、エアコン、ガスコンロ対応、クロゼット、TVインターホン、浴室乾燥機...  \n",
       "3  バストイレ別、バルコニー、エアコン、クロゼット、フローリング、TVインターホン、浴室乾燥機、...  \n",
       "4  バストイレ別、バルコニー、エアコン、ガスコンロ対応、クロゼット、フローリング、TVインターホ...  "
      ]
     },
     "metadata": {},
     "output_type": "display_data"
    },
    {
     "name": "stdout",
     "output_type": "stream",
     "text": [
      "others: \n",
      "バストイレ別、バルコニー、エアコン、クロゼット、フローリング、TVインターホン、浴室乾燥機、オートロック、室内洗濯置、シューズボックス、システムキッチン、温水洗浄便座、脱衣所、エレベーター、洗面所独立、2口コンロ、駐輪場、宅配ボックス、押入、即入居可、礼金不要、敷金不要、防犯カメラ、ペット相談、分譲賃貸、保証人不要、バイク置場、2沿線利用可、CS、ネット使用料不要、築2年以内、築3年以内、一部フローリング、ペット専用設備、トイレ未使用、2駅利用可、駅徒歩5分以内、駅徒歩10分以内、24時間ゴミ出し可、敷地内ごみ置き場、築5年以内、都市ガス、BS、敷金・礼金不要、保証会社利用可、IT重説 対応物件、初期費用カード決済可\n",
      "others add features: \n",
      "バストイレ別、バルコニー、エアコン、クロゼット、フローリング、TVインターホン、浴室乾燥機、オートロック、室内洗濯置、シューズボックス、システムキッチン、温水洗浄便座、脱衣所、エレベーター、洗面所独立、2口コンロ、駐輪場、宅配ボックス、押入、即入居可、礼金不要、敷金不要、防犯カメラ、ペット相談、分譲賃貸、保証人不要、バイク置場、2沿線利用可、CS、ネット使用料不要、築2年以内、築3年以内、一部フローリング、ペット専用設備、トイレ未使用、2駅利用可、駅徒歩5分以内、駅徒歩10分以内、24時間ゴミ出し可、敷地内ごみ置き場、築5年以内、都市ガス、BS、敷金・礼金不要、保証会社利用可、IT重説 対応物件、初期費用カード決済可、1K、K6.9、鉄筋コン、7階、8階建、25m、東急目黒線、新丸子駅、歩4分、新丸子東１、2021年\n"
     ]
    }
   ],
   "source": [
    "def print_data_info(df):\n",
    "    print(\"データ数: \", len(df))\n",
    "    display(df.head())\n",
    "    print(\"others: \")\n",
    "    print(data.loc[100, \"others\"])\n",
    "    print()\n",
    "    print(\"others add features: \")\n",
    "    print(data.loc[100, \"others_add_features\"])\n",
    "    \n",
    "    \n",
    "print_data_info(data[[\"others\", \"target\", \"others_add_features\"]])\n"
   ]
  },
  {
   "cell_type": "code",
   "execution_count": null,
   "id": "4994ac33",
   "metadata": {},
   "outputs": [],
   "source": []
  }
 ],
 "metadata": {
  "kernelspec": {
   "display_name": "Python 3 (ipykernel)",
   "language": "python",
   "name": "python3"
  },
  "language_info": {
   "codemirror_mode": {
    "name": "ipython",
    "version": 3
   },
   "file_extension": ".py",
   "mimetype": "text/x-python",
   "name": "python",
   "nbconvert_exporter": "python",
   "pygments_lexer": "ipython3",
   "version": "3.9.7"
  }
 },
 "nbformat": 4,
 "nbformat_minor": 5
}
