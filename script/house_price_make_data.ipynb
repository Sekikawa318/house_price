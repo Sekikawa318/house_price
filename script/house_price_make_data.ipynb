{
 "cells": [
  {
   "cell_type": "code",
   "execution_count": 276,
   "id": "07e52ecf",
   "metadata": {},
   "outputs": [],
   "source": [
    "import pandas as pd\n",
    "import numpy as np\n",
    "\n",
    "pd.set_option('display.max_columns', 100)\n",
    "\n",
    "root = \"../\""
   ]
  },
  {
   "cell_type": "code",
   "execution_count": 277,
   "id": "760525bf",
   "metadata": {},
   "outputs": [],
   "source": [
    "l = pd.read_csv(root+\"input/list_page_data.csv\")\n",
    "l = l.drop_duplicates()\n",
    "d = pd.read_csv(root+\"input/detail_page_data.csv\")\n",
    "d = d.drop_duplicates()"
   ]
  },
  {
   "cell_type": "markdown",
   "id": "a52e7e8d",
   "metadata": {},
   "source": [
    "## リストページ"
   ]
  },
  {
   "cell_type": "code",
   "execution_count": null,
   "id": "412bf9b2",
   "metadata": {},
   "outputs": [],
   "source": [
    "l.detail_url.value_counts()"
   ]
  },
  {
   "cell_type": "code",
   "execution_count": 279,
   "id": "ad28650a",
   "metadata": {},
   "outputs": [],
   "source": [
    "keys = l.detail_url.value_counts().keys()\n",
    "values = l.detail_url.value_counts().values\n",
    "\n",
    "index = [True] * len(l)\n",
    "\n",
    "for key, value in zip(keys, values):\n",
    "    if value > 1:\n",
    "        index = (index) & (l[\"detail_url\"] != key)\n",
    "    else:\n",
    "        break\n",
    "        \n",
    "l = l[index]"
   ]
  },
  {
   "cell_type": "code",
   "execution_count": null,
   "id": "49b989a5",
   "metadata": {},
   "outputs": [],
   "source": [
    "len(l)"
   ]
  },
  {
   "cell_type": "code",
   "execution_count": null,
   "id": "d4d66b0e",
   "metadata": {
    "scrolled": false
   },
   "outputs": [],
   "source": [
    "l.head()"
   ]
  },
  {
   "cell_type": "markdown",
   "id": "6c16f65e",
   "metadata": {},
   "source": [
    "## 詳細ページ"
   ]
  },
  {
   "cell_type": "code",
   "execution_count": null,
   "id": "92c24c07",
   "metadata": {},
   "outputs": [],
   "source": [
    "d.url.value_counts()"
   ]
  },
  {
   "cell_type": "code",
   "execution_count": null,
   "id": "2c15d9ea",
   "metadata": {},
   "outputs": [],
   "source": [
    "len(d)"
   ]
  },
  {
   "cell_type": "code",
   "execution_count": null,
   "id": "0e3964ee",
   "metadata": {},
   "outputs": [],
   "source": [
    "d.head(1)"
   ]
  },
  {
   "cell_type": "markdown",
   "id": "37206f15",
   "metadata": {},
   "source": [
    "## 結合"
   ]
  },
  {
   "cell_type": "code",
   "execution_count": 285,
   "id": "9c7a1c44",
   "metadata": {
    "scrolled": true
   },
   "outputs": [],
   "source": [
    "temp1 = set(l.detail_url)\n",
    "temp2 = set(d.url)"
   ]
  },
  {
   "cell_type": "code",
   "execution_count": 286,
   "id": "5c3c7587",
   "metadata": {
    "scrolled": true
   },
   "outputs": [],
   "source": [
    "# temp1 - temp2"
   ]
  },
  {
   "cell_type": "code",
   "execution_count": 287,
   "id": "e1b768d8",
   "metadata": {
    "scrolled": true
   },
   "outputs": [],
   "source": [
    "# temp2 - temp1"
   ]
  },
  {
   "cell_type": "code",
   "execution_count": 288,
   "id": "7e8d5506",
   "metadata": {},
   "outputs": [],
   "source": [
    "train = pd.merge(left=l, right=d, left_on=\"detail_url\", right_on=\"url\", how=\"inner\")\n",
    "train = train.drop([\"url_x\", \"url_y\", \"detail_url\"], axis=1)"
   ]
  },
  {
   "cell_type": "code",
   "execution_count": null,
   "id": "9f37cac0",
   "metadata": {},
   "outputs": [],
   "source": [
    "train.columns"
   ]
  },
  {
   "cell_type": "code",
   "execution_count": null,
   "id": "d265127c",
   "metadata": {
    "scrolled": true
   },
   "outputs": [],
   "source": [
    "train.head(1)"
   ]
  },
  {
   "cell_type": "markdown",
   "id": "e51e85a7",
   "metadata": {},
   "source": [
    "## 自然言語処理用"
   ]
  },
  {
   "cell_type": "code",
   "execution_count": 294,
   "id": "884ca4b6",
   "metadata": {},
   "outputs": [],
   "source": [
    "def make_target(df):\n",
    "    df[\"kanrihi\"] = df[\"kanrihi\"].fillna(\"0円\")\n",
    "    df[\"kanrihi\"] = train[\"kanrihi\"].map(lambda d: \"0円\" if d==\"-\" else d)\n",
    "    \n",
    "    kanrihi = df[\"kanrihi\"].map(lambda d: int(d[:-1]))\n",
    "    yatin = df[\"yatin\"].map(lambda d: float(d[:-2])*10000)\n",
    "    \n",
    "    df[\"target\"] = kanrihi + yatin\n",
    "    return df"
   ]
  },
  {
   "cell_type": "code",
   "execution_count": 304,
   "id": "a687cf45",
   "metadata": {},
   "outputs": [],
   "source": [
    "def make_others(df):\n",
    "    others = np.array(df[\"others\"])\n",
    "    \n",
    "    features = {}\n",
    "    features[\"madori\"] = np.array(df[\"madori\"])\n",
    "    features[\"madori_detail\"] = np.array(df[\"madori_detail\"].str.replace(\" \", \"\"))\n",
    "    features[\"kozo\"] = np.array(df[\"kozo\"])\n",
    "    \n",
    "    # ----- kaidate\n",
    "    # 「x階/y階建」のような形式\n",
    "    # 「x階、y階建」としてデータ追加\n",
    "    features[\"kaidate_x_kai\"] = np.array(df[\"kaidate\"].map(lambda d: d.split(\"/\")[0] if \"/\" in d else \"<S>\"))\n",
    "    features[\"kaidate_y_kaidate\"] = np.array(df[\"kaidate\"].map(lambda d: d.split(\"/\")[1] if \"/\" in d else d))\n",
    "    # ----- \n",
    "    \n",
    "    # ----- menseki\n",
    "    # 「30.21m」みたいな形式\n",
    "    # 「30m」としてデータ追加\n",
    "    features[\"menseki\"] = np.array(df[\"menseki\"].map(lambda d: d.split(\".\")[0] + \"m\" if \".\" in d else d))\n",
    "    # -----\n",
    "    \n",
    "    # ----- ekitoho\n",
    "    # 「xx線/yy駅 歩zz分」みたいな形式\n",
    "    # 「xx、yy、zz」としてデータ追加\n",
    "    features[\"ekitoho_xx_sen\"] = np.array(df[\"ekitoho\"].map(lambda d: d.split(\"/\")[0]))\n",
    "    features[\"ekitoho_yy_eki\"] = np.array(df[\"ekitoho\"].map(lambda d: d.split(\"/\")[1].split(\" \")[0]))\n",
    "    features[\"ekitoho_zz_hun\"] = np.array(df[\"ekitoho\"].map(lambda d: d.split(\"/\")[1].split(\" \")[1]))\n",
    "    # -----\n",
    "    \n",
    "    # ----- syozaiti\n",
    "    # 「xx県yy市zz区aa」みたいな形式\n",
    "    # 「aa」としてデータ追加\n",
    "    features[\"syozaiti_aa\"] = np.array(df[\"syozaiti\"].map(lambda d: d.split(\"区\")[1]))\n",
    "    # -----\n",
    "    \n",
    "    # ----- tikunengetu\n",
    "    # 「xxxx年yy月」みたいな形式\n",
    "    # 「xxxx年、yy月」としてデータ追加 or 「xxx年」のみ追加する\n",
    "    features[\"tikunengetu_xxxx_nen\"] = np.array(df[\"tikunengetu\"].map(lambda d: d.split(\"年\")[0]+\"年\"))\n",
    "    # -----\n",
    "    \n",
    "    for i in range(len(others)):\n",
    "        for v in features.values():\n",
    "            others[i] = others[i] + \"、\" + v[i]\n",
    "    \n",
    "    df[\"others_add_features\"] = others\n",
    "    return df"
   ]
  },
  {
   "cell_type": "code",
   "execution_count": 305,
   "id": "ab05c433",
   "metadata": {},
   "outputs": [],
   "source": [
    "train = make_others(train)"
   ]
  },
  {
   "cell_type": "code",
   "execution_count": null,
   "id": "656b3fc1",
   "metadata": {
    "scrolled": true
   },
   "outputs": [],
   "source": [
    "data = train[[\n",
    "    \"others\", \"target\", \"others_add_features\"\n",
    "]]\n",
    "data.head(2)"
   ]
  },
  {
   "cell_type": "code",
   "execution_count": null,
   "id": "3d407928",
   "metadata": {},
   "outputs": [],
   "source": [
    "data[\"others_add_features_list\"] = data[\"others_add_features\"].map(lambda d: d.split(\"、\"))"
   ]
  },
  {
   "cell_type": "code",
   "execution_count": null,
   "id": "ab213ef2",
   "metadata": {},
   "outputs": [],
   "source": [
    "data.head(3)"
   ]
  },
  {
   "cell_type": "code",
   "execution_count": 311,
   "id": "b0bd1880",
   "metadata": {},
   "outputs": [],
   "source": [
    "def print_others(df, n=5):\n",
    "    for i in range(n):\n",
    "        r = int(np.random.uniform(low=0, high=len(df), size=None))\n",
    "        print(\" ----- \")\n",
    "        print(df[\"others\"][r])\n",
    "        print(\" ----- \")\n",
    "        print(df[\"others_add_features\"][r])\n",
    "        print(\" ----- \")\n",
    "        print(df[\"others_add_features_list\"][r])\n",
    "        print(\" ----- \")\n",
    "        print()\n"
   ]
  },
  {
   "cell_type": "code",
   "execution_count": null,
   "id": "b6f54a1e",
   "metadata": {},
   "outputs": [],
   "source": [
    "print_others(data, n=10)"
   ]
  },
  {
   "cell_type": "code",
   "execution_count": 314,
   "id": "ea842c4c",
   "metadata": {},
   "outputs": [],
   "source": [
    "data.to_csv(root+\"output/house_price.csv\")"
   ]
  },
  {
   "cell_type": "code",
   "execution_count": null,
   "id": "2e4b06f5",
   "metadata": {
    "scrolled": false
   },
   "outputs": [],
   "source": [
    "def print_data_info(df):\n",
    "    print(\"データ数: \", len(df))\n",
    "    display(df.head())\n",
    "    print(\"others: \")\n",
    "    print(data.loc[100, \"others\"])\n",
    "    \n",
    "print_data_info(data[[\"others\", \"target\"]])\n"
   ]
  },
  {
   "cell_type": "code",
   "execution_count": null,
   "id": "617bd0d4",
   "metadata": {},
   "outputs": [],
   "source": [
    "def print_data_info(df):\n",
    "    print(\"データ数: \", len(df))\n",
    "    display(df.head())\n",
    "    print(\"others: \")\n",
    "    print(data.loc[100, \"others\"])\n",
    "    print()\n",
    "    print(\"others add features: \")\n",
    "    print(data.loc[100, \"others_add_features\"])\n",
    "    \n",
    "    \n",
    "print_data_info(data[[\"others\", \"target\", \"others_add_features\"]])\n"
   ]
  },
  {
   "cell_type": "code",
   "execution_count": null,
   "id": "1d846e35",
   "metadata": {},
   "outputs": [],
   "source": []
  }
 ],
 "metadata": {
  "kernelspec": {
   "display_name": "Python 3 (ipykernel)",
   "language": "python",
   "name": "python3"
  },
  "language_info": {
   "codemirror_mode": {
    "name": "ipython",
    "version": 3
   },
   "file_extension": ".py",
   "mimetype": "text/x-python",
   "name": "python",
   "nbconvert_exporter": "python",
   "pygments_lexer": "ipython3",
   "version": "3.9.7"
  }
 },
 "nbformat": 4,
 "nbformat_minor": 5
}
