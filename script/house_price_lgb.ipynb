{
 "cells": [
  {
   "cell_type": "code",
   "execution_count": 258,
   "id": "07e52ecf",
   "metadata": {},
   "outputs": [],
   "source": [
    "import pandas as pd\n",
    "import numpy as np\n",
    "import lightgbm as lgb\n",
    "from sklearn.model_selection import train_test_split, GridSearchCV, KFold\n",
    "from sklearn.metrics import mean_absolute_error\n",
    "\n",
    "\n",
    "pd.set_option('display.max_columns', 100)\n",
    "\n",
    "root = \"../\""
   ]
  },
  {
   "cell_type": "code",
   "execution_count": 259,
   "id": "67e7b73b",
   "metadata": {},
   "outputs": [],
   "source": [
    "def convertDummies(df, col, drop=True):\n",
    "    \"\"\"\n",
    "    ワンホットエンコーディングを行う\n",
    "\n",
    "    Parameters\n",
    "    ----------\n",
    "    df:pd.DataFrame\n",
    "        処理を行うデータフレーム \n",
    "    col:list\n",
    "        ワンホットエンコーディングを行う特徴量名のリスト\n",
    "\n",
    "    Returns\n",
    "    -------\n",
    "    df\n",
    "        ワンホットエンコーディングを行ったデータフレーム \n",
    "    \"\"\"\n",
    "    if drop:\n",
    "        for c in col:\n",
    "            df = pd.concat([df, pd.get_dummies(df[c])], axis=1).drop([c], axis=1)\n",
    "    else:\n",
    "        for c in col:\n",
    "            df = pd.concat([df, pd.get_dummies(df[c])], axis=1)\n",
    "    \n",
    "    return df"
   ]
  },
  {
   "cell_type": "code",
   "execution_count": 260,
   "id": "2982666f",
   "metadata": {},
   "outputs": [],
   "source": [
    "l = pd.read_csv(root+\"input/list_page_data.csv\")\n",
    "l = l.drop_duplicates()\n",
    "d = pd.read_csv(root+\"input/detail_page_data.csv\")\n",
    "d = d.drop_duplicates()"
   ]
  },
  {
   "cell_type": "markdown",
   "id": "2fd0a467",
   "metadata": {},
   "source": [
    "## リストページ"
   ]
  },
  {
   "cell_type": "code",
   "execution_count": 261,
   "id": "ac4c8f42",
   "metadata": {},
   "outputs": [
    {
     "data": {
      "text/plain": [
       "https://suumo.jp/chintai/jnc_000068802081/?bc=100256104423    2\n",
       "https://suumo.jp/chintai/jnc_000057853373/?bc=100196884781    2\n",
       "https://suumo.jp/chintai/jnc_000068632335/?bc=100252192140    2\n",
       "Name: detail_url, dtype: int64"
      ]
     },
     "execution_count": 261,
     "metadata": {},
     "output_type": "execute_result"
    }
   ],
   "source": [
    "l.detail_url.value_counts()[:3]"
   ]
  },
  {
   "cell_type": "code",
   "execution_count": 262,
   "id": "55600e66",
   "metadata": {},
   "outputs": [],
   "source": [
    "keys = l.detail_url.value_counts().keys()\n",
    "values = l.detail_url.value_counts().values\n",
    "\n",
    "index = [True] * len(l)\n",
    "\n",
    "for key, value in zip(keys, values):\n",
    "    if value > 1:\n",
    "        index = (index) & (l[\"detail_url\"] != key)\n",
    "    else:\n",
    "        break\n",
    "        \n",
    "l = l[index]"
   ]
  },
  {
   "cell_type": "code",
   "execution_count": null,
   "id": "1a54d5b2",
   "metadata": {},
   "outputs": [],
   "source": [
    "len(l)"
   ]
  },
  {
   "cell_type": "code",
   "execution_count": null,
   "id": "2f140918",
   "metadata": {
    "scrolled": false
   },
   "outputs": [],
   "source": [
    "l.head(3)"
   ]
  },
  {
   "cell_type": "markdown",
   "id": "6b3ab6d1",
   "metadata": {},
   "source": [
    "## 詳細ページ"
   ]
  },
  {
   "cell_type": "code",
   "execution_count": null,
   "id": "ab129bef",
   "metadata": {},
   "outputs": [],
   "source": [
    "d.url.value_counts()"
   ]
  },
  {
   "cell_type": "code",
   "execution_count": null,
   "id": "7857c8d3",
   "metadata": {},
   "outputs": [],
   "source": [
    "len(d)"
   ]
  },
  {
   "cell_type": "code",
   "execution_count": 267,
   "id": "8b3fc5e1",
   "metadata": {},
   "outputs": [],
   "source": [
    "# d.head(1)"
   ]
  },
  {
   "cell_type": "markdown",
   "id": "e704c795",
   "metadata": {},
   "source": [
    "## 結合"
   ]
  },
  {
   "cell_type": "code",
   "execution_count": 268,
   "id": "428d796d",
   "metadata": {
    "scrolled": true
   },
   "outputs": [],
   "source": [
    "temp1 = set(l.detail_url)\n",
    "temp2 = set(d.url)"
   ]
  },
  {
   "cell_type": "code",
   "execution_count": 269,
   "id": "b4fd057e",
   "metadata": {
    "scrolled": true
   },
   "outputs": [],
   "source": [
    "# temp1 - temp2"
   ]
  },
  {
   "cell_type": "code",
   "execution_count": 270,
   "id": "0a4772af",
   "metadata": {
    "scrolled": true
   },
   "outputs": [],
   "source": [
    "# temp2 - temp1"
   ]
  },
  {
   "cell_type": "code",
   "execution_count": 271,
   "id": "c4206735",
   "metadata": {},
   "outputs": [],
   "source": [
    "train = pd.merge(left=l, right=d, left_on=\"detail_url\", right_on=\"url\", how=\"inner\")\n",
    "train = train.drop([\"url_x\", \"url_y\", \"detail_url\"], axis=1)"
   ]
  },
  {
   "cell_type": "code",
   "execution_count": null,
   "id": "e33c1cb9",
   "metadata": {},
   "outputs": [],
   "source": [
    "train.columns"
   ]
  },
  {
   "cell_type": "code",
   "execution_count": null,
   "id": "8740b1ae",
   "metadata": {
    "scrolled": true
   },
   "outputs": [],
   "source": [
    "train.head(1)"
   ]
  },
  {
   "cell_type": "markdown",
   "id": "63c9867f",
   "metadata": {},
   "source": [
    "## 前処理"
   ]
  },
  {
   "cell_type": "code",
   "execution_count": 274,
   "id": "a7410b8a",
   "metadata": {},
   "outputs": [],
   "source": [
    "def preprocessing(df):\n",
    "    def make_target(df):\n",
    "        df[\"kanrihi\"] = df[\"kanrihi\"].fillna(\"0円\").map(lambda d: \"0円\" if d==\"-\" else d)\n",
    "        yatin = df[\"yatin\"].map(lambda d: float(d.split(\"万\")[0])*10000)\n",
    "        kanrihi = df[\"kanrihi\"].map(lambda d: int(d.split(\"円\")[0]))\n",
    "        df[\"target\"] = yatin + kanrihi\n",
    "        df = df.drop([\"kanrihi\", \"yatin\"], axis=1)\n",
    "        return df\n",
    "    \n",
    "    def preprocess_madori(df):\n",
    "        df[\"madori_num\"] = df[\"madori\"].map(lambda d: int(d[0]) if d[0].isnumeric() else 0)\n",
    "        df[\"madori_kind\"] = df[\"madori\"].map(lambda d: d[1:] if d[0].isnumeric() else 0)\n",
    "        df = convertDummies(df, [\"madori_kind\"], drop=True)\n",
    "        df = df.drop([\"madori\"], axis=1)\n",
    "        return df \n",
    "    \n",
    "    def preprocess_menseki(df):\n",
    "        df[\"menseki\"] = df[\"menseki\"].map(lambda d: float(d[:-1]))\n",
    "        return df\n",
    "    \n",
    "    def preprocess_ekitoho(df):\n",
    "        df[\"eki_sen\"] = df[\"ekitoho\"].map(lambda d: d.split(\"/\")[0])\n",
    "        df[\"eki\"] = df[\"ekitoho\"].map(lambda d: d.split(\"/\")[1].split(\" \")[0])\n",
    "        df[\"toho\"] = df[\"ekitoho\"].map(lambda d: d.split(\"/\")[1].split(\" \")[1])\n",
    "        df[\"toho\"] = df[\"toho\"].map(lambda d: d.split(\"分\")[0])\n",
    "        df[\"toho\"] = df[\"toho\"].map(lambda d: int(d.split(\"歩\")[1]) if \"歩\" in d else int(d.split(\"バス\")[1]))\n",
    "        df = convertDummies(df, [\"eki_sen\", \"eki\"], drop=True)\n",
    "\n",
    "        df = df.drop([\"ekitoho\"], axis=1)\n",
    "        return df\n",
    "    \n",
    "    def preprocess_kaidate(df):\n",
    "        df[\"kaidate_1\"] = df[\"kaidate\"].map(lambda d: d.split(\"/\")[0].split(\"階\")[0] if \"/\" in d else \"0\")\n",
    "\n",
    "        df[\"kaidate_1\"] = df[\"kaidate_1\"].map(lambda d: d.split(\"-\")[0] if \"-\" in d else d)\n",
    "        df[\"kaidate_1\"] = df[\"kaidate_1\"].map(lambda d: int(d) if d[0].isnumeric() else 0)\n",
    "        \n",
    "        df[\"kaidate_2\"] = df[\"kaidate\"].map(lambda d: d.split(\"/\")[1].split(\"階\")[0] if \"/\" in d else \"-1\")\n",
    "        df[\"kaidate_2\"] = df[\"kaidate_2\"].map(lambda d: int(d) if d[0].isnumeric() else -1)\n",
    "\n",
    "        df = df.drop([\"kaidate\"], axis=1)\n",
    "        return df\n",
    "    \n",
    "    def preprocess_kozo(df):\n",
    "        converter = {\"その他\": \"minority_kozo\", \"プレコン\": \"minority_kozo\", \"鉄骨プレ\": \"minority_kozo\", \"ブロック\": \"minority_kozo\"}\n",
    "        df[\"kozo\"] = df[\"kozo\"].map(lambda d: converter[d] if d in converter.keys() else d)\n",
    "        df = convertDummies(df, [\"kozo\"], drop=True)\n",
    "        return df\n",
    "    \n",
    "    def madori_detail(df):\n",
    "        # 処理が大変なので、一旦ドロップする\n",
    "        df = df.drop([\"madori_detail\"], axis=1)\n",
    "        return df\n",
    "    \n",
    "    def preprocess_syozaiti(df):\n",
    "        check = train[\"syozaiti\"].map(lambda d: d.split(\"区\")[1]).value_counts()\n",
    "        df[\"syozaiti\"] = df[\"syozaiti\"].map(lambda d: d.split(\"区\")[1]).map(lambda d: \"minority_syozaiti\" if check[d] < 10 else d)\n",
    "        df = convertDummies(df, [\"syozaiti\"], drop=True)\n",
    "        return df\n",
    "    \n",
    "    def preprocess_tikunengetu(df):\n",
    "        df[\"tikunengetu\"] = df[\"tikunengetu\"].map(lambda d: int(d[:4]))\n",
    "        return df\n",
    "    \n",
    "    def drop_columns(df):\n",
    "        rm_cols = [\n",
    "            \"reikin\", \"shikikin\", \"keiyaku_kikan\", \"nyukyo\", \"others\", \"sonpo\", \"syohiyo\", \"syokihi\",\n",
    "            \"title\", \"tyukai_tesuryo\", \"zyoken\", \"tyusyazyo\"\n",
    "        ]\n",
    "        return df.drop(rm_cols, axis=1)\n",
    "        \n",
    "    df = make_target(df)\n",
    "    df = preprocess_madori(df)\n",
    "    df = preprocess_menseki(df)\n",
    "    df = preprocess_ekitoho(df)\n",
    "    df = preprocess_kaidate(df)\n",
    "    df = preprocess_kozo(df)\n",
    "    df = madori_detail(df)\n",
    "    df = preprocess_syozaiti(df)\n",
    "    df = preprocess_tikunengetu(df)\n",
    "    df = drop_columns(df)\n",
    "    \n",
    "    return df"
   ]
  },
  {
   "cell_type": "code",
   "execution_count": null,
   "id": "5d116a6e",
   "metadata": {},
   "outputs": [],
   "source": [
    "temp = preprocessing(train)\n",
    "temp.target.plot.hist()"
   ]
  },
  {
   "cell_type": "code",
   "execution_count": 275,
   "id": "fd75d333",
   "metadata": {},
   "outputs": [],
   "source": [
    "X = preprocessing(train)\n",
    "X, X_test = train_test_split(\n",
    "    X,\n",
    "    test_size=0.25, \n",
    "    shuffle=True, \n",
    "    random_state=42, \n",
    "   )\n",
    "\n",
    "y = X.target\n",
    "y_test = X_test.target\n",
    "X = X.drop(\"target\", axis=1)\n",
    "X_test = X_test.drop(\"target\", axis=1)"
   ]
  },
  {
   "cell_type": "code",
   "execution_count": 276,
   "id": "c15195d5",
   "metadata": {},
   "outputs": [],
   "source": [
    "# lightGBM\n",
    "def lgbGridSearch(X, y, kf=KFold(n_splits=5), scoring=\"neg_mean_squared_error\"):\n",
    "    grid_param ={\n",
    "        'n_estimators': [5000],'max_depth': [8],'num_leaves': [15, 30, 50, 80, 120],'learning_rate': [0.01, 0.1],\n",
    "    \n",
    "    }\n",
    "    \n",
    "    lgbC_grid_search = GridSearchCV(\n",
    "        lgb.LGBMRegressor(n_jobs=-1, random_state=42, metric=\"MSE\"), \n",
    "        grid_param, \n",
    "        cv=kf, \n",
    "        n_jobs=-1, \n",
    "        verbose=1, \n",
    "        scoring=scoring\n",
    "    )\n",
    "\n",
    "    lgbC_grid_search.fit(X, y)\n",
    "    print(\"Best parameters: \", lgbC_grid_search.best_params_)\n",
    "    print(\"Best cross-validation score: \", lgbC_grid_search.best_score_)\n",
    "    \n",
    "    print(\"---------------\")\n",
    "    return lgbC_grid_search, lgbC_grid_search.best_params_, lgbC_grid_search.best_score_"
   ]
  },
  {
   "cell_type": "code",
   "execution_count": null,
   "id": "342f2c98",
   "metadata": {},
   "outputs": [],
   "source": [
    "X.head()"
   ]
  },
  {
   "cell_type": "code",
   "execution_count": null,
   "id": "57fc5559",
   "metadata": {
    "scrolled": true
   },
   "outputs": [],
   "source": [
    "lgbC_grid_search, lgbC_grid_search_best_params, lgbC_grid_search_best_score = lgbGridSearch(X, y)"
   ]
  },
  {
   "cell_type": "code",
   "execution_count": 278,
   "id": "e11aa765",
   "metadata": {},
   "outputs": [],
   "source": [
    "model = lgbC_grid_search.best_estimator_\n",
    "predict = model.predict(X_test)"
   ]
  },
  {
   "cell_type": "code",
   "execution_count": 279,
   "id": "9510dd0c",
   "metadata": {},
   "outputs": [],
   "source": [
    "lgb_predicts = pd.DataFrame()\n",
    "lgb_predicts[\"predict\"] = predict\n",
    "lgb_predicts[\"answer\"] = y_test.reset_index(drop=True)"
   ]
  },
  {
   "cell_type": "code",
   "execution_count": null,
   "id": "0b61c342",
   "metadata": {},
   "outputs": [],
   "source": [
    "import matplotlib.pyplot as plt\n",
    "%matplotlib inline\n",
    "\n",
    "\n",
    "plt.scatter(\n",
    "    lgb_predicts[\"answer\"], \n",
    "    lgb_predicts[\"predict\"], \n",
    "    alpha=0.5,\n",
    "    label=(\"answer\", 'predict'), \n",
    "    color='navy',\n",
    ")\n",
    "\n",
    "m = min(lgb_predicts[\"predict\"])\n",
    "M = max(lgb_predicts[\"predict\"])\n",
    "l = len(lgb_predicts)\n",
    "\n",
    "plt.plot(\n",
    "    np.linspace(m, M, l), \n",
    "    np.linspace(m, M, l), \n",
    "    color=\"orange\",\n",
    "    linewidth=4,\n",
    ")\n",
    "\n",
    "plt.title(\"predict:answer\", {\"fontsize\": 15})\n",
    "plt.xlabel(\"answer\", {\"fontsize\": 15})\n",
    "plt.ylabel(\"predict\", {\"fontsize\": 15})\n",
    "plt.tick_params(labelsize=15)\n",
    "plt.legend(prop={\"size\": 15}, loc=\"best\")\n",
    "\n",
    "\n",
    "# ----- 赤で塗りつぶす場合\n",
    "plt.fill_between(np.linspace(m-5000, M+5000, l), np.linspace(m-5000, M+5000, l), facecolor='red', alpha=0.125)\n",
    "plt.xlim((m-5000, M+5000))\n",
    "plt.ylim((m-5000, M+5000))\n",
    "# -----\n",
    "\n",
    "# plt.show()\n",
    "\n",
    "plt.grid()"
   ]
  },
  {
   "cell_type": "code",
   "execution_count": 183,
   "id": "63cd9449",
   "metadata": {},
   "outputs": [
    {
     "data": {
      "text/html": [
       "<div>\n",
       "<style scoped>\n",
       "    .dataframe tbody tr th:only-of-type {\n",
       "        vertical-align: middle;\n",
       "    }\n",
       "\n",
       "    .dataframe tbody tr th {\n",
       "        vertical-align: top;\n",
       "    }\n",
       "\n",
       "    .dataframe thead th {\n",
       "        text-align: right;\n",
       "    }\n",
       "</style>\n",
       "<table border=\"1\" class=\"dataframe\">\n",
       "  <thead>\n",
       "    <tr style=\"text-align: right;\">\n",
       "      <th></th>\n",
       "      <th>predict</th>\n",
       "      <th>answer</th>\n",
       "    </tr>\n",
       "  </thead>\n",
       "  <tbody>\n",
       "    <tr>\n",
       "      <th>0</th>\n",
       "      <td>116892.579127</td>\n",
       "      <td>100000.0</td>\n",
       "    </tr>\n",
       "    <tr>\n",
       "      <th>1</th>\n",
       "      <td>109469.831542</td>\n",
       "      <td>108500.0</td>\n",
       "    </tr>\n",
       "    <tr>\n",
       "      <th>2</th>\n",
       "      <td>65470.844381</td>\n",
       "      <td>70000.0</td>\n",
       "    </tr>\n",
       "    <tr>\n",
       "      <th>3</th>\n",
       "      <td>78293.687364</td>\n",
       "      <td>79500.0</td>\n",
       "    </tr>\n",
       "    <tr>\n",
       "      <th>4</th>\n",
       "      <td>113147.215044</td>\n",
       "      <td>112000.0</td>\n",
       "    </tr>\n",
       "    <tr>\n",
       "      <th>...</th>\n",
       "      <td>...</td>\n",
       "      <td>...</td>\n",
       "    </tr>\n",
       "    <tr>\n",
       "      <th>1293</th>\n",
       "      <td>81545.370270</td>\n",
       "      <td>83000.0</td>\n",
       "    </tr>\n",
       "    <tr>\n",
       "      <th>1294</th>\n",
       "      <td>113412.981175</td>\n",
       "      <td>114000.0</td>\n",
       "    </tr>\n",
       "    <tr>\n",
       "      <th>1295</th>\n",
       "      <td>67112.400045</td>\n",
       "      <td>62000.0</td>\n",
       "    </tr>\n",
       "    <tr>\n",
       "      <th>1296</th>\n",
       "      <td>58733.357067</td>\n",
       "      <td>56000.0</td>\n",
       "    </tr>\n",
       "    <tr>\n",
       "      <th>1297</th>\n",
       "      <td>54632.801604</td>\n",
       "      <td>58000.0</td>\n",
       "    </tr>\n",
       "  </tbody>\n",
       "</table>\n",
       "<p>1298 rows × 2 columns</p>\n",
       "</div>"
      ],
      "text/plain": [
       "            predict    answer\n",
       "0     116892.579127  100000.0\n",
       "1     109469.831542  108500.0\n",
       "2      65470.844381   70000.0\n",
       "3      78293.687364   79500.0\n",
       "4     113147.215044  112000.0\n",
       "...             ...       ...\n",
       "1293   81545.370270   83000.0\n",
       "1294  113412.981175  114000.0\n",
       "1295   67112.400045   62000.0\n",
       "1296   58733.357067   56000.0\n",
       "1297   54632.801604   58000.0\n",
       "\n",
       "[1298 rows x 2 columns]"
      ]
     },
     "execution_count": 183,
     "metadata": {},
     "output_type": "execute_result"
    }
   ],
   "source": [
    "lgb_predicts"
   ]
  },
  {
   "cell_type": "code",
   "execution_count": null,
   "id": "9077d199",
   "metadata": {},
   "outputs": [],
   "source": [
    "mean_absolute_error(lgb_predicts[\"predict\"], lgb_predicts[\"answer\"])"
   ]
  },
  {
   "cell_type": "code",
   "execution_count": 222,
   "id": "a4e805cb",
   "metadata": {},
   "outputs": [],
   "source": [
    "# lgb_predicts.to_csv(root+\"output/predicts_lgb.csv\")"
   ]
  },
  {
   "cell_type": "markdown",
   "id": "f96a09f8",
   "metadata": {},
   "source": [
    "---"
   ]
  },
  {
   "cell_type": "code",
   "execution_count": 295,
   "id": "e77c55ce",
   "metadata": {},
   "outputs": [],
   "source": [
    "model = lgb.LGBMRegressor(\n",
    "    n_jobs=-1, random_state=42, metric=\"MSE\", \n",
    "    learning_rate=0.01, max_depth=8, n_estimators=5000, num_leaves=30,\n",
    ")"
   ]
  },
  {
   "cell_type": "code",
   "execution_count": 296,
   "id": "43e1e4bf",
   "metadata": {},
   "outputs": [],
   "source": [
    "def predict_cv(model, train_x, train_y, test_x):\n",
    "    preds = []\n",
    "    preds_test = []\n",
    "    va_idxes = []\n",
    "\n",
    "    kf = KFold(n_splits=5, shuffle=True, random_state=42)\n",
    "\n",
    "    # クロスバリデーションで学習・予測を行い、予測値とインデックスを保存する\n",
    "    for i, (tr_idx, va_idx) in enumerate(kf.split(train_x)):\n",
    "        tr_x, va_x = train_x.iloc[tr_idx], train_x.iloc[va_idx]\n",
    "        tr_y, va_y = train_y.iloc[tr_idx], train_y.iloc[va_idx]\n",
    "        \n",
    "        tr_x, va_x = np.array(tr_x), np.array(va_x)\n",
    "        tr_y, va_y = np.array(tr_y), np.array(va_y)\n",
    "        \n",
    "        model.fit(tr_x, tr_y)\n",
    "        pred = model.predict(va_x)\n",
    "        preds.append(pred)\n",
    "        pred_test = model.predict(test_x)\n",
    "        preds_test.append(pred_test)\n",
    "        va_idxes.append(va_idx)\n",
    "\n",
    "    # バリデーションデータに対する予測値を連結し、その後元の順序に並べ直す\n",
    "    va_idxes = np.concatenate(va_idxes)\n",
    "    preds = np.concatenate(preds, axis=0)\n",
    "    order = np.argsort(va_idxes)\n",
    "    pred_train = preds[order]\n",
    "\n",
    "    # テストデータに対する予測値の平均をとる\n",
    "    preds_test = np.mean(preds_test, axis=0)\n",
    "\n",
    "    return pred_train, preds_test"
   ]
  },
  {
   "cell_type": "code",
   "execution_count": 297,
   "id": "cd08ec75",
   "metadata": {
    "scrolled": true
   },
   "outputs": [],
   "source": [
    "pred_train, pred_test = predict_cv(model, X, y, X_test)"
   ]
  },
  {
   "cell_type": "code",
   "execution_count": 298,
   "id": "f3c36cb9",
   "metadata": {},
   "outputs": [],
   "source": [
    "lgb_predicts_train = pd.DataFrame()\n",
    "lgb_predicts_train[\"predict\"] = pred_train\n",
    "lgb_predicts_train[\"answer\"] = y.reset_index(drop=True)\n",
    "\n",
    "lgb_predicts_test = pd.DataFrame()\n",
    "lgb_predicts_test[\"predict\"] = pred_test\n",
    "lgb_predicts_test[\"answer\"] = y_test.reset_index(drop=True)"
   ]
  },
  {
   "cell_type": "code",
   "execution_count": 300,
   "id": "5c0de097",
   "metadata": {},
   "outputs": [],
   "source": [
    "lgb_predicts_train.to_csv(root+\"output/lgb_predicts_train.csv\", index=False)\n",
    "lgb_predicts_test.to_csv(root+\"output/lgb_predicts_test.csv\", index=False)"
   ]
  },
  {
   "cell_type": "code",
   "execution_count": null,
   "id": "24062b63",
   "metadata": {},
   "outputs": [],
   "source": [
    "lgb_predicts_test"
   ]
  },
  {
   "cell_type": "code",
   "execution_count": 305,
   "id": "fed53739",
   "metadata": {
    "scrolled": true
   },
   "outputs": [
    {
     "data": {
      "text/plain": [
       "3614.8358227548983"
      ]
     },
     "execution_count": 305,
     "metadata": {},
     "output_type": "execute_result"
    }
   ],
   "source": [
    "mean_absolute_error(lgb_predicts_test[\"predict\"], lgb_predicts_test[\"answer\"])"
   ]
  },
  {
   "cell_type": "markdown",
   "id": "bdca933d",
   "metadata": {},
   "source": [
    "---"
   ]
  },
  {
   "cell_type": "markdown",
   "id": "5acb41f3",
   "metadata": {},
   "source": [
    "### nlpで補正した予測値のスコア計算"
   ]
  },
  {
   "cell_type": "code",
   "execution_count": 311,
   "id": "6790f26a",
   "metadata": {},
   "outputs": [],
   "source": [
    "lgb_result = lgb_predicts_test.copy()"
   ]
  },
  {
   "cell_type": "code",
   "execution_count": 312,
   "id": "b04c455f",
   "metadata": {},
   "outputs": [],
   "source": [
    "nlp_result = pd.read_csv(root+\"output/nlp_predicts_house_price_othres.csv\")\n",
    "nlp_result[\"predict\"] = nlp_result[\"predict\"] + lgb_result[\"predict\"]"
   ]
  },
  {
   "cell_type": "code",
   "execution_count": null,
   "id": "0ec99ced",
   "metadata": {},
   "outputs": [],
   "source": [
    "mean_absolute_error(nlp_result[\"predict\"], lgb_result[\"answer\"])"
   ]
  },
  {
   "cell_type": "code",
   "execution_count": null,
   "id": "76673175",
   "metadata": {},
   "outputs": [],
   "source": []
  }
 ],
 "metadata": {
  "kernelspec": {
   "display_name": "Python 3 (ipykernel)",
   "language": "python",
   "name": "python3"
  },
  "language_info": {
   "codemirror_mode": {
    "name": "ipython",
    "version": 3
   },
   "file_extension": ".py",
   "mimetype": "text/x-python",
   "name": "python",
   "nbconvert_exporter": "python",
   "pygments_lexer": "ipython3",
   "version": "3.9.7"
  }
 },
 "nbformat": 4,
 "nbformat_minor": 5
}
